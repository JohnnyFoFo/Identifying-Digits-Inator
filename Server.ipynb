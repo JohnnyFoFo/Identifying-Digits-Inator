{
 "cells": [
  {
   "cell_type": "code",
   "execution_count": 5,
   "id": "b67d3c7f",
   "metadata": {},
   "outputs": [
    {
     "name": "stdout",
     "output_type": "stream",
     "text": [
      "Collecting tensorflow\n",
      "  Using cached tensorflow-2.11.0-cp39-cp39-macosx_10_14_x86_64.whl (244.3 MB)\n",
      "Collecting google-pasta>=0.1.1\n",
      "  Using cached google_pasta-0.2.0-py3-none-any.whl (57 kB)\n",
      "Requirement already satisfied: typing-extensions>=3.6.6 in /Users/john/opt/anaconda3/lib/python3.9/site-packages (from tensorflow) (4.3.0)\n",
      "Collecting protobuf<3.20,>=3.9.2\n",
      "  Using cached protobuf-3.19.6-cp39-cp39-macosx_10_9_x86_64.whl (980 kB)\n",
      "Requirement already satisfied: setuptools in /Users/john/opt/anaconda3/lib/python3.9/site-packages (from tensorflow) (63.4.1)\n",
      "Requirement already satisfied: packaging in /Users/john/opt/anaconda3/lib/python3.9/site-packages (from tensorflow) (21.3)\n",
      "Requirement already satisfied: numpy>=1.20 in /Users/john/opt/anaconda3/lib/python3.9/site-packages (from tensorflow) (1.21.5)\n",
      "Requirement already satisfied: wrapt>=1.11.0 in /Users/john/opt/anaconda3/lib/python3.9/site-packages (from tensorflow) (1.14.1)\n",
      "Collecting absl-py>=1.0.0\n",
      "  Downloading absl_py-1.4.0-py3-none-any.whl (126 kB)\n",
      "\u001b[2K     \u001b[90m━━━━━━━━━━━━━━━━━━━━━━━━━━━━━━━━━━━━━━━\u001b[0m \u001b[32m126.5/126.5 kB\u001b[0m \u001b[31m2.0 MB/s\u001b[0m eta \u001b[36m0:00:00\u001b[0ma \u001b[36m0:00:01\u001b[0m\n",
      "\u001b[?25hCollecting termcolor>=1.1.0\n",
      "  Downloading termcolor-2.2.0-py3-none-any.whl (6.6 kB)\n",
      "Requirement already satisfied: h5py>=2.9.0 in /Users/john/opt/anaconda3/lib/python3.9/site-packages (from tensorflow) (3.7.0)\n",
      "Collecting opt-einsum>=2.3.2\n",
      "  Using cached opt_einsum-3.3.0-py3-none-any.whl (65 kB)\n",
      "Collecting tensorflow-io-gcs-filesystem>=0.23.1\n",
      "  Downloading tensorflow_io_gcs_filesystem-0.29.0-cp39-cp39-macosx_10_14_x86_64.whl (1.6 MB)\n",
      "\u001b[2K     \u001b[90m━━━━━━━━━━━━━━━━━━━━━━━━━━━━━━━━━━━━━━━━\u001b[0m \u001b[32m1.6/1.6 MB\u001b[0m \u001b[31m6.3 MB/s\u001b[0m eta \u001b[36m0:00:00\u001b[0m00:01\u001b[0m00:01\u001b[0m\n",
      "\u001b[?25hCollecting keras<2.12,>=2.11.0\n",
      "  Using cached keras-2.11.0-py2.py3-none-any.whl (1.7 MB)\n",
      "Collecting flatbuffers>=2.0\n",
      "  Downloading flatbuffers-23.1.4-py2.py3-none-any.whl (26 kB)\n",
      "Collecting libclang>=13.0.0\n",
      "  Downloading libclang-15.0.6.1-py2.py3-none-macosx_10_9_x86_64.whl (25.0 MB)\n",
      "\u001b[2K     \u001b[90m━━━━━━━━━━━━━━━━━━━━━━━━━━━━━━━━━━━━━━━━\u001b[0m \u001b[32m25.0/25.0 MB\u001b[0m \u001b[31m9.8 MB/s\u001b[0m eta \u001b[36m0:00:00\u001b[0m:00:01\u001b[0m00:01\u001b[0m\n",
      "\u001b[?25hCollecting gast<=0.4.0,>=0.2.1\n",
      "  Using cached gast-0.4.0-py3-none-any.whl (9.8 kB)\n",
      "Collecting tensorflow-estimator<2.12,>=2.11.0\n",
      "  Using cached tensorflow_estimator-2.11.0-py2.py3-none-any.whl (439 kB)\n",
      "Collecting astunparse>=1.6.0\n",
      "  Using cached astunparse-1.6.3-py2.py3-none-any.whl (12 kB)\n",
      "Collecting grpcio<2.0,>=1.24.3\n",
      "  Downloading grpcio-1.51.1-cp39-cp39-macosx_10_10_x86_64.whl (4.6 MB)\n",
      "\u001b[2K     \u001b[90m━━━━━━━━━━━━━━━━━━━━━━━━━━━━━━━━━━━━━━━━\u001b[0m \u001b[32m4.6/4.6 MB\u001b[0m \u001b[31m12.0 MB/s\u001b[0m eta \u001b[36m0:00:00\u001b[0m00:01\u001b[0m00:01\u001b[0m\n",
      "\u001b[?25hCollecting tensorboard<2.12,>=2.11\n",
      "  Using cached tensorboard-2.11.0-py3-none-any.whl (6.0 MB)\n",
      "Requirement already satisfied: six>=1.12.0 in /Users/john/opt/anaconda3/lib/python3.9/site-packages (from tensorflow) (1.16.0)\n",
      "Requirement already satisfied: wheel<1.0,>=0.23.0 in /Users/john/opt/anaconda3/lib/python3.9/site-packages (from astunparse>=1.6.0->tensorflow) (0.37.1)\n",
      "Collecting tensorboard-plugin-wit>=1.6.0\n",
      "  Using cached tensorboard_plugin_wit-1.8.1-py3-none-any.whl (781 kB)\n",
      "Requirement already satisfied: requests<3,>=2.21.0 in /Users/john/opt/anaconda3/lib/python3.9/site-packages (from tensorboard<2.12,>=2.11->tensorflow) (2.28.1)\n",
      "Collecting google-auth-oauthlib<0.5,>=0.4.1\n",
      "  Using cached google_auth_oauthlib-0.4.6-py2.py3-none-any.whl (18 kB)\n",
      "Requirement already satisfied: markdown>=2.6.8 in /Users/john/opt/anaconda3/lib/python3.9/site-packages (from tensorboard<2.12,>=2.11->tensorflow) (3.3.4)\n",
      "Collecting google-auth<3,>=1.6.3\n",
      "  Downloading google_auth-2.16.0-py2.py3-none-any.whl (177 kB)\n",
      "\u001b[2K     \u001b[90m━━━━━━━━━━━━━━━━━━━━━━━━━━━━━━━━━━━━━━━\u001b[0m \u001b[32m177.8/177.8 kB\u001b[0m \u001b[31m5.3 MB/s\u001b[0m eta \u001b[36m0:00:00\u001b[0m\n",
      "\u001b[?25hCollecting tensorboard-data-server<0.7.0,>=0.6.0\n",
      "  Using cached tensorboard_data_server-0.6.1-py3-none-macosx_10_9_x86_64.whl (3.5 MB)\n",
      "Requirement already satisfied: werkzeug>=1.0.1 in /Users/john/opt/anaconda3/lib/python3.9/site-packages (from tensorboard<2.12,>=2.11->tensorflow) (2.0.3)\n",
      "Requirement already satisfied: pyparsing!=3.0.5,>=2.0.2 in /Users/john/opt/anaconda3/lib/python3.9/site-packages (from packaging->tensorflow) (3.0.9)\n",
      "Collecting rsa<5,>=3.1.4\n",
      "  Using cached rsa-4.9-py3-none-any.whl (34 kB)\n",
      "Requirement already satisfied: pyasn1-modules>=0.2.1 in /Users/john/opt/anaconda3/lib/python3.9/site-packages (from google-auth<3,>=1.6.3->tensorboard<2.12,>=2.11->tensorflow) (0.2.8)\n",
      "Collecting cachetools<6.0,>=2.0.0\n",
      "  Downloading cachetools-5.2.1-py3-none-any.whl (9.3 kB)\n",
      "Collecting requests-oauthlib>=0.7.0\n",
      "  Using cached requests_oauthlib-1.3.1-py2.py3-none-any.whl (23 kB)\n",
      "Requirement already satisfied: charset-normalizer<3,>=2 in /Users/john/opt/anaconda3/lib/python3.9/site-packages (from requests<3,>=2.21.0->tensorboard<2.12,>=2.11->tensorflow) (2.0.4)\n",
      "Requirement already satisfied: certifi>=2017.4.17 in /Users/john/opt/anaconda3/lib/python3.9/site-packages (from requests<3,>=2.21.0->tensorboard<2.12,>=2.11->tensorflow) (2022.9.24)\n",
      "Requirement already satisfied: urllib3<1.27,>=1.21.1 in /Users/john/opt/anaconda3/lib/python3.9/site-packages (from requests<3,>=2.21.0->tensorboard<2.12,>=2.11->tensorflow) (1.26.11)\n",
      "Requirement already satisfied: idna<4,>=2.5 in /Users/john/opt/anaconda3/lib/python3.9/site-packages (from requests<3,>=2.21.0->tensorboard<2.12,>=2.11->tensorflow) (3.3)\n",
      "Requirement already satisfied: pyasn1<0.5.0,>=0.4.6 in /Users/john/opt/anaconda3/lib/python3.9/site-packages (from pyasn1-modules>=0.2.1->google-auth<3,>=1.6.3->tensorboard<2.12,>=2.11->tensorflow) (0.4.8)\n",
      "Collecting oauthlib>=3.0.0\n",
      "  Using cached oauthlib-3.2.2-py3-none-any.whl (151 kB)\n",
      "Installing collected packages: tensorboard-plugin-wit, libclang, flatbuffers, termcolor, tensorflow-io-gcs-filesystem, tensorflow-estimator, tensorboard-data-server, rsa, protobuf, opt-einsum, oauthlib, keras, grpcio, google-pasta, gast, cachetools, astunparse, absl-py, requests-oauthlib, google-auth, google-auth-oauthlib, tensorboard, tensorflow\n",
      "Successfully installed absl-py-1.4.0 astunparse-1.6.3 cachetools-5.2.1 flatbuffers-23.1.4 gast-0.4.0 google-auth-2.16.0 google-auth-oauthlib-0.4.6 google-pasta-0.2.0 grpcio-1.51.1 keras-2.11.0 libclang-15.0.6.1 oauthlib-3.2.2 opt-einsum-3.3.0 protobuf-3.19.6 requests-oauthlib-1.3.1 rsa-4.9 tensorboard-2.11.0 tensorboard-data-server-0.6.1 tensorboard-plugin-wit-1.8.1 tensorflow-2.11.0 tensorflow-estimator-2.11.0 tensorflow-io-gcs-filesystem-0.29.0 termcolor-2.2.0\n",
      "Note: you may need to restart the kernel to use updated packages.\n"
     ]
    }
   ],
   "source": [
    "#pip install tensorflow"
   ]
  },
  {
   "cell_type": "code",
   "execution_count": null,
   "id": "1b1b7df2",
   "metadata": {},
   "outputs": [
    {
     "name": "stderr",
     "output_type": "stream",
     "text": [
      "2023-01-16 20:14:42.376436: I tensorflow/core/platform/cpu_feature_guard.cc:193] This TensorFlow binary is optimized with oneAPI Deep Neural Network Library (oneDNN) to use the following CPU instructions in performance-critical operations:  AVX2 FMA\n",
      "To enable them in other operations, rebuild TensorFlow with the appropriate compiler flags.\n"
     ]
    },
    {
     "name": "stdout",
     "output_type": "stream",
     "text": [
      " * Serving Flask app \"serverr\" (lazy loading)\n",
      " * Environment: production\n",
      "\u001b[31m   WARNING: This is a development server. Do not use it in a production deployment.\u001b[0m\n",
      "\u001b[2m   Use a production WSGI server instead.\u001b[0m\n",
      " * Debug mode: on\n"
     ]
    },
    {
     "name": "stderr",
     "output_type": "stream",
     "text": [
      " * Running on http://127.0.0.1:5000/ (Press CTRL+C to quit)\n",
      " * Restarting with watchdog (fsevents)\n",
      "2023-01-16 20:14:58.554005: I tensorflow/core/platform/cpu_feature_guard.cc:193] This TensorFlow binary is optimized with oneAPI Deep Neural Network Library (oneDNN) to use the following CPU instructions in performance-critical operations:  AVX2 FMA\n",
      "To enable them in other operations, rebuild TensorFlow with the appropriate compiler flags.\n",
      " * Debugger is active!\n",
      " * Debugger PIN: 692-672-937\n",
      "127.0.0.1 - - [16/Jan/2023 20:15:38] \"GET / HTTP/1.1\" 200 -\n",
      "127.0.0.1 - - [16/Jan/2023 20:15:38] \"GET /index.css HTTP/1.1\" 404 -\n",
      "127.0.0.1 - - [16/Jan/2023 20:15:38] \"GET /fileIcon.png HTTP/1.1\" 404 -\n",
      "127.0.0.1 - - [16/Jan/2023 20:15:38] \"GET /submit_Icon.png HTTP/1.1\" 404 -\n",
      "127.0.0.1 - - [16/Jan/2023 20:15:38] \"GET /image.jpeg HTTP/1.1\" 404 -\n",
      "127.0.0.1 - - [16/Jan/2023 20:15:38] \"GET /favicon.ico HTTP/1.1\" 404 -\n",
      "2023-01-16 20:15:47.561275: I tensorflow/core/platform/cpu_feature_guard.cc:193] This TensorFlow binary is optimized with oneAPI Deep Neural Network Library (oneDNN) to use the following CPU instructions in performance-critical operations:  AVX2 FMA\n",
      "To enable them in other operations, rebuild TensorFlow with the appropriate compiler flags.\n"
     ]
    },
    {
     "name": "stdout",
     "output_type": "stream",
     "text": [
      "ImmutableMultiDict([('file', <FileStorage: 'images.png' ('image/png')>)])\n",
      "Loaded model from disk\n",
      "Model: \"sequential_1\"\n",
      "_________________________________________________________________\n",
      " Layer (type)                Output Shape              Param #   \n",
      "=================================================================\n",
      " flatten_1 (Flatten)         (None, 784)               0         \n",
      "                                                                 \n",
      " dense_2 (Dense)             (None, 128)               100480    \n",
      "                                                                 \n",
      " dropout_1 (Dropout)         (None, 128)               0         \n",
      "                                                                 \n",
      " dense_3 (Dense)             (None, 10)                1290      \n",
      "                                                                 \n",
      "=================================================================\n",
      "Total params: 101,770\n",
      "Trainable params: 101,770\n",
      "Non-trainable params: 0\n",
      "_________________________________________________________________\n",
      "1/1 [==============================] - 0s 276ms/step\n"
     ]
    },
    {
     "name": "stderr",
     "output_type": "stream",
     "text": [
      "127.0.0.1 - - [16/Jan/2023 20:15:48] \"POST /submit HTTP/1.1\" 200 -\n",
      "127.0.0.1 - - [16/Jan/2023 20:15:48] \"GET /script.js HTTP/1.1\" 404 -\n",
      "127.0.0.1 - - [16/Jan/2023 20:15:48] \"GET /style.css HTTP/1.1\" 404 -\n",
      "127.0.0.1 - - [16/Jan/2023 20:15:48] \"GET /images.png HTTP/1.1\" 404 -\n",
      "127.0.0.1 - - [16/Jan/2023 20:18:42] \"GET / HTTP/1.1\" 200 -\n",
      "127.0.0.1 - - [16/Jan/2023 20:18:42] \"GET /index.css HTTP/1.1\" 404 -\n",
      "127.0.0.1 - - [16/Jan/2023 20:18:42] \"GET /fileIcon.png HTTP/1.1\" 404 -\n",
      "127.0.0.1 - - [16/Jan/2023 20:18:42] \"GET /submit_Icon.png HTTP/1.1\" 404 -\n",
      "127.0.0.1 - - [16/Jan/2023 20:18:43] \"GET /image.jpeg HTTP/1.1\" 404 -\n"
     ]
    },
    {
     "name": "stdout",
     "output_type": "stream",
     "text": [
      "[[0.04562007 0.16151993 0.09590641 0.05583221 0.07367452 0.2451682\n",
      "  0.06050808 0.17704946 0.03259752 0.05212365]]\n",
      "ImmutableMultiDict([('file', <FileStorage: 'images.png' ('image/png')>)])\n",
      "Loaded model from disk\n",
      "Model: \"sequential_1\"\n",
      "_________________________________________________________________\n",
      " Layer (type)                Output Shape              Param #   \n",
      "=================================================================\n",
      " flatten_1 (Flatten)         (None, 784)               0         \n",
      "                                                                 \n",
      " dense_2 (Dense)             (None, 128)               100480    \n",
      "                                                                 \n",
      " dropout_1 (Dropout)         (None, 128)               0         \n",
      "                                                                 \n",
      " dense_3 (Dense)             (None, 10)                1290      \n",
      "                                                                 \n",
      "=================================================================\n",
      "Total params: 101,770\n",
      "Trainable params: 101,770\n",
      "Non-trainable params: 0\n",
      "_________________________________________________________________\n",
      "\r",
      "1/1 [==============================] - ETA: 0s\b\b\b\b\b\b\b\b\b\b\b\b\b\b\b\b\b\b\b\b\b\b\b\b\b\b\b\b\b\b\b\b\b\b\b\b\b\b\b\b\b\b\b\b\b\b\r",
      "1/1 [==============================] - 0s 50ms/step\n"
     ]
    },
    {
     "name": "stderr",
     "output_type": "stream",
     "text": [
      "127.0.0.1 - - [16/Jan/2023 20:18:53] \"POST /submit HTTP/1.1\" 200 -\n",
      "127.0.0.1 - - [16/Jan/2023 20:18:53] \"GET /script.js HTTP/1.1\" 404 -\n",
      "127.0.0.1 - - [16/Jan/2023 20:18:53] \"GET /style.css HTTP/1.1\" 404 -\n",
      "127.0.0.1 - - [16/Jan/2023 20:18:53] \"GET /images.png HTTP/1.1\" 404 -\n",
      " * Detected change in '/Users/john/Neural Networks/Identifying Digits Project/serverr.py', reloading\n",
      " * Detected change in '/Users/john/Neural Networks/Identifying Digits Project/.~serverr.py', reloading\n",
      " * Detected change in '/Users/john/Neural Networks/Identifying Digits Project/.~serverr.py', reloading\n",
      " * Detected change in '/Users/john/Neural Networks/Identifying Digits Project/.~serverr.py', reloading\n"
     ]
    },
    {
     "name": "stdout",
     "output_type": "stream",
     "text": [
      "[[0.04562007 0.16151993 0.09590641 0.05583221 0.07367452 0.2451682\n",
      "  0.06050808 0.17704946 0.03259752 0.05212365]]\n"
     ]
    },
    {
     "name": "stderr",
     "output_type": "stream",
     "text": [
      " * Restarting with watchdog (fsevents)\n",
      "2023-01-16 20:19:26.642404: I tensorflow/core/platform/cpu_feature_guard.cc:193] This TensorFlow binary is optimized with oneAPI Deep Neural Network Library (oneDNN) to use the following CPU instructions in performance-critical operations:  AVX2 FMA\n",
      "To enable them in other operations, rebuild TensorFlow with the appropriate compiler flags.\n",
      " * Debugger is active!\n",
      " * Debugger PIN: 692-672-937\n",
      "127.0.0.1 - - [16/Jan/2023 20:19:34] \"GET / HTTP/1.1\" 200 -\n",
      "127.0.0.1 - - [16/Jan/2023 20:19:34] \"GET /index.css HTTP/1.1\" 404 -\n",
      "127.0.0.1 - - [16/Jan/2023 20:19:34] \"GET /fileIcon.png HTTP/1.1\" 404 -\n",
      "127.0.0.1 - - [16/Jan/2023 20:19:34] \"GET /submit_Icon.png HTTP/1.1\" 404 -\n",
      "127.0.0.1 - - [16/Jan/2023 20:19:34] \"GET /image.jpeg HTTP/1.1\" 404 -\n",
      " * Detected change in '/Users/john/Neural Networks/Identifying Digits Project/serverr.py', reloading\n",
      " * Detected change in '/Users/john/Neural Networks/Identifying Digits Project/.~serverr.py', reloading\n",
      " * Detected change in '/Users/john/Neural Networks/Identifying Digits Project/.~serverr.py', reloading\n",
      " * Detected change in '/Users/john/Neural Networks/Identifying Digits Project/.~serverr.py', reloading\n",
      " * Restarting with watchdog (fsevents)\n",
      "2023-01-16 20:20:11.956946: I tensorflow/core/platform/cpu_feature_guard.cc:193] This TensorFlow binary is optimized with oneAPI Deep Neural Network Library (oneDNN) to use the following CPU instructions in performance-critical operations:  AVX2 FMA\n",
      "To enable them in other operations, rebuild TensorFlow with the appropriate compiler flags.\n",
      " * Debugger is active!\n",
      " * Debugger PIN: 692-672-937\n",
      "2023-01-16 20:20:17.516071: I tensorflow/core/platform/cpu_feature_guard.cc:193] This TensorFlow binary is optimized with oneAPI Deep Neural Network Library (oneDNN) to use the following CPU instructions in performance-critical operations:  AVX2 FMA\n",
      "To enable them in other operations, rebuild TensorFlow with the appropriate compiler flags.\n"
     ]
    },
    {
     "name": "stdout",
     "output_type": "stream",
     "text": [
      "ImmutableMultiDict([('file', <FileStorage: 'images.png' ('image/png')>)])\n",
      "Loaded model from disk\n",
      "Model: \"sequential_1\"\n",
      "_________________________________________________________________\n",
      " Layer (type)                Output Shape              Param #   \n",
      "=================================================================\n",
      " flatten_1 (Flatten)         (None, 784)               0         \n",
      "                                                                 \n",
      " dense_2 (Dense)             (None, 128)               100480    \n",
      "                                                                 \n",
      " dropout_1 (Dropout)         (None, 128)               0         \n",
      "                                                                 \n",
      " dense_3 (Dense)             (None, 10)                1290      \n",
      "                                                                 \n",
      "=================================================================\n",
      "Total params: 101,770\n",
      "Trainable params: 101,770\n",
      "Non-trainable params: 0\n",
      "_________________________________________________________________\n",
      "\r",
      "1/1 [==============================] - ETA: 0s\b\b\b\b\b\b\b\b\b\b\b\b\b\b\b\b\b\b\b\b\b\b\b\b\b\b\b\b\b\b\b\b\b\b\b\b\b\b\b\b\b\b\b\b\b\b\r",
      "1/1 [==============================] - 0s 94ms/step\n"
     ]
    },
    {
     "name": "stderr",
     "output_type": "stream",
     "text": [
      "127.0.0.1 - - [16/Jan/2023 20:20:17] \"POST /submit HTTP/1.1\" 200 -\n",
      "127.0.0.1 - - [16/Jan/2023 20:20:17] \"GET /style.css HTTP/1.1\" 404 -\n",
      "127.0.0.1 - - [16/Jan/2023 20:20:17] \"GET /script.js HTTP/1.1\" 404 -\n",
      " * Detected change in '/Users/john/Neural Networks/Identifying Digits Project/serverr.py', reloading\n",
      " * Detected change in '/Users/john/Neural Networks/Identifying Digits Project/.~serverr.py', reloading\n",
      " * Detected change in '/Users/john/Neural Networks/Identifying Digits Project/.~serverr.py', reloading\n",
      " * Detected change in '/Users/john/Neural Networks/Identifying Digits Project/.~serverr.py', reloading\n"
     ]
    },
    {
     "name": "stdout",
     "output_type": "stream",
     "text": [
      "[[0.04562007 0.16151993 0.09590641 0.05583221 0.07367452 0.2451682\n",
      "  0.06050808 0.17704946 0.03259752 0.05212365]]\n"
     ]
    },
    {
     "name": "stderr",
     "output_type": "stream",
     "text": [
      " * Restarting with watchdog (fsevents)\n",
      "2023-01-16 20:21:03.785575: I tensorflow/core/platform/cpu_feature_guard.cc:193] This TensorFlow binary is optimized with oneAPI Deep Neural Network Library (oneDNN) to use the following CPU instructions in performance-critical operations:  AVX2 FMA\n",
      "To enable them in other operations, rebuild TensorFlow with the appropriate compiler flags.\n",
      " * Debugger is active!\n",
      " * Debugger PIN: 692-672-937\n",
      " * Detected change in '/Users/john/Neural Networks/Identifying Digits Project/serverr.py', reloading\n",
      " * Detected change in '/Users/john/Neural Networks/Identifying Digits Project/.~serverr.py', reloading\n",
      " * Detected change in '/Users/john/Neural Networks/Identifying Digits Project/.~serverr.py', reloading\n",
      " * Detected change in '/Users/john/Neural Networks/Identifying Digits Project/.~serverr.py', reloading\n",
      " * Restarting with watchdog (fsevents)\n",
      "2023-01-16 20:21:32.854098: I tensorflow/core/platform/cpu_feature_guard.cc:193] This TensorFlow binary is optimized with oneAPI Deep Neural Network Library (oneDNN) to use the following CPU instructions in performance-critical operations:  AVX2 FMA\n",
      "To enable them in other operations, rebuild TensorFlow with the appropriate compiler flags.\n",
      " * Debugger is active!\n",
      " * Debugger PIN: 692-672-937\n",
      "127.0.0.1 - - [16/Jan/2023 20:21:37] \"GET / HTTP/1.1\" 200 -\n",
      "127.0.0.1 - - [16/Jan/2023 20:21:37] \"GET /index.css HTTP/1.1\" 404 -\n",
      "127.0.0.1 - - [16/Jan/2023 20:21:37] \"GET /fileIcon.png HTTP/1.1\" 404 -\n",
      "127.0.0.1 - - [16/Jan/2023 20:21:37] \"GET /submit_Icon.png HTTP/1.1\" 404 -\n",
      "127.0.0.1 - - [16/Jan/2023 20:21:37] \"GET /image.jpeg HTTP/1.1\" 404 -\n",
      "2023-01-16 20:21:45.550157: I tensorflow/core/platform/cpu_feature_guard.cc:193] This TensorFlow binary is optimized with oneAPI Deep Neural Network Library (oneDNN) to use the following CPU instructions in performance-critical operations:  AVX2 FMA\n",
      "To enable them in other operations, rebuild TensorFlow with the appropriate compiler flags.\n"
     ]
    },
    {
     "name": "stdout",
     "output_type": "stream",
     "text": [
      "ImmutableMultiDict([('file', <FileStorage: 'images.png' ('image/png')>)])\n",
      "Loaded model from disk\n",
      "Model: \"sequential_1\"\n",
      "_________________________________________________________________\n",
      " Layer (type)                Output Shape              Param #   \n",
      "=================================================================\n",
      " flatten_1 (Flatten)         (None, 784)               0         \n",
      "                                                                 \n",
      " dense_2 (Dense)             (None, 128)               100480    \n",
      "                                                                 \n",
      " dropout_1 (Dropout)         (None, 128)               0         \n",
      "                                                                 \n",
      " dense_3 (Dense)             (None, 10)                1290      \n",
      "                                                                 \n",
      "=================================================================\n",
      "Total params: 101,770\n",
      "Trainable params: 101,770\n",
      "Non-trainable params: 0\n",
      "_________________________________________________________________\n",
      "\r",
      "1/1 [==============================] - ETA: 0s\b\b\b\b\b\b\b\b\b\b\b\b\b\b\b\b\b\b\b\b\b\b\b\b\b\b\b\b\b\b\b\b\b\b\b\b\b\b\b\b\b\b\b\b\b\b\r",
      "1/1 [==============================] - 0s 96ms/step\n"
     ]
    },
    {
     "name": "stderr",
     "output_type": "stream",
     "text": [
      "127.0.0.1 - - [16/Jan/2023 20:21:45] \"POST /submit HTTP/1.1\" 200 -\n",
      "127.0.0.1 - - [16/Jan/2023 20:21:45] \"GET /script.js HTTP/1.1\" 404 -\n",
      "127.0.0.1 - - [16/Jan/2023 20:21:45] \"GET /style.css HTTP/1.1\" 404 -\n",
      " * Detected change in '/Users/john/Neural Networks/Identifying Digits Project/serverr.py', reloading\n",
      " * Detected change in '/Users/john/Neural Networks/Identifying Digits Project/.~serverr.py', reloading\n",
      " * Detected change in '/Users/john/Neural Networks/Identifying Digits Project/.~serverr.py', reloading\n",
      " * Detected change in '/Users/john/Neural Networks/Identifying Digits Project/.~serverr.py', reloading\n"
     ]
    },
    {
     "name": "stdout",
     "output_type": "stream",
     "text": [
      "[[0.04562007 0.16151993 0.09590641 0.05583221 0.07367452 0.2451682\n",
      "  0.06050808 0.17704946 0.03259752 0.05212365]]\n"
     ]
    },
    {
     "name": "stderr",
     "output_type": "stream",
     "text": [
      " * Restarting with watchdog (fsevents)\n",
      "2023-01-16 20:22:11.066977: I tensorflow/core/platform/cpu_feature_guard.cc:193] This TensorFlow binary is optimized with oneAPI Deep Neural Network Library (oneDNN) to use the following CPU instructions in performance-critical operations:  AVX2 FMA\n",
      "To enable them in other operations, rebuild TensorFlow with the appropriate compiler flags.\n",
      " * Debugger is active!\n",
      " * Debugger PIN: 692-672-937\n",
      "2023-01-16 20:22:16.133850: I tensorflow/core/platform/cpu_feature_guard.cc:193] This TensorFlow binary is optimized with oneAPI Deep Neural Network Library (oneDNN) to use the following CPU instructions in performance-critical operations:  AVX2 FMA\n",
      "To enable them in other operations, rebuild TensorFlow with the appropriate compiler flags.\n"
     ]
    },
    {
     "name": "stdout",
     "output_type": "stream",
     "text": [
      "ImmutableMultiDict([('file', <FileStorage: 'images.png' ('image/png')>)])\n",
      "Loaded model from disk\n",
      "Model: \"sequential_1\"\n",
      "_________________________________________________________________\n",
      " Layer (type)                Output Shape              Param #   \n",
      "=================================================================\n",
      " flatten_1 (Flatten)         (None, 784)               0         \n",
      "                                                                 \n",
      " dense_2 (Dense)             (None, 128)               100480    \n",
      "                                                                 \n",
      " dropout_1 (Dropout)         (None, 128)               0         \n",
      "                                                                 \n",
      " dense_3 (Dense)             (None, 10)                1290      \n",
      "                                                                 \n",
      "=================================================================\n",
      "Total params: 101,770\n",
      "Trainable params: 101,770\n",
      "Non-trainable params: 0\n",
      "_________________________________________________________________\n",
      "\r",
      "1/1 [==============================] - ETA: 0s\b\b\b\b\b\b\b\b\b\b\b\b\b\b\b\b\b\b\b\b\b\b\b\b\b\b\b\b\b\b\b\b\b\b\b\b\b\b\b\b\b\b\b\b\b\b\r",
      "1/1 [==============================] - 0s 95ms/step\n"
     ]
    },
    {
     "name": "stderr",
     "output_type": "stream",
     "text": [
      "127.0.0.1 - - [16/Jan/2023 20:22:16] \"POST /submit HTTP/1.1\" 200 -\n",
      "127.0.0.1 - - [16/Jan/2023 20:22:16] \"GET /script.js HTTP/1.1\" 404 -\n",
      "127.0.0.1 - - [16/Jan/2023 20:22:16] \"GET /style.css HTTP/1.1\" 404 -\n",
      " * Detected change in '/Users/john/Neural Networks/Identifying Digits Project/serverr.py', reloading\n",
      " * Detected change in '/Users/john/Neural Networks/Identifying Digits Project/.~serverr.py', reloading\n",
      " * Detected change in '/Users/john/Neural Networks/Identifying Digits Project/.~serverr.py', reloading\n",
      " * Detected change in '/Users/john/Neural Networks/Identifying Digits Project/.~serverr.py', reloading\n"
     ]
    },
    {
     "name": "stdout",
     "output_type": "stream",
     "text": [
      "[[0.04562007 0.16151993 0.09590641 0.05583221 0.07367452 0.2451682\n",
      "  0.06050808 0.17704946 0.03259752 0.05212365]]\n"
     ]
    },
    {
     "name": "stderr",
     "output_type": "stream",
     "text": [
      " * Restarting with watchdog (fsevents)\n",
      "2023-01-16 20:22:28.351769: I tensorflow/core/platform/cpu_feature_guard.cc:193] This TensorFlow binary is optimized with oneAPI Deep Neural Network Library (oneDNN) to use the following CPU instructions in performance-critical operations:  AVX2 FMA\n",
      "To enable them in other operations, rebuild TensorFlow with the appropriate compiler flags.\n",
      " * Debugger is active!\n",
      " * Debugger PIN: 692-672-937\n",
      "2023-01-16 20:22:33.976082: I tensorflow/core/platform/cpu_feature_guard.cc:193] This TensorFlow binary is optimized with oneAPI Deep Neural Network Library (oneDNN) to use the following CPU instructions in performance-critical operations:  AVX2 FMA\n",
      "To enable them in other operations, rebuild TensorFlow with the appropriate compiler flags.\n"
     ]
    },
    {
     "name": "stdout",
     "output_type": "stream",
     "text": [
      "ImmutableMultiDict([('file', <FileStorage: 'images.png' ('image/png')>)])\n",
      "Loaded model from disk\n",
      "Model: \"sequential_1\"\n",
      "_________________________________________________________________\n",
      " Layer (type)                Output Shape              Param #   \n",
      "=================================================================\n",
      " flatten_1 (Flatten)         (None, 784)               0         \n",
      "                                                                 \n",
      " dense_2 (Dense)             (None, 128)               100480    \n",
      "                                                                 \n",
      " dropout_1 (Dropout)         (None, 128)               0         \n",
      "                                                                 \n",
      " dense_3 (Dense)             (None, 10)                1290      \n",
      "                                                                 \n",
      "=================================================================\n",
      "Total params: 101,770\n",
      "Trainable params: 101,770\n",
      "Non-trainable params: 0\n",
      "_________________________________________________________________\n",
      "1/1 [==============================] - 0s 140ms/step\n"
     ]
    },
    {
     "name": "stderr",
     "output_type": "stream",
     "text": [
      "127.0.0.1 - - [16/Jan/2023 20:22:34] \"POST /submit HTTP/1.1\" 200 -\n",
      "127.0.0.1 - - [16/Jan/2023 20:22:34] \"GET /script.js HTTP/1.1\" 404 -\n",
      "127.0.0.1 - - [16/Jan/2023 20:22:34] \"GET /style.css HTTP/1.1\" 404 -\n"
     ]
    },
    {
     "name": "stdout",
     "output_type": "stream",
     "text": [
      "[[0.04562007 0.16151993 0.09590641 0.05583221 0.07367452 0.2451682\n",
      "  0.06050808 0.17704946 0.03259752 0.05212365]]\n",
      "ImmutableMultiDict([('file', <FileStorage: 'images.png' ('image/png')>)])\n",
      "Loaded model from disk\n",
      "Model: \"sequential_1\"\n",
      "_________________________________________________________________\n",
      " Layer (type)                Output Shape              Param #   \n",
      "=================================================================\n",
      " flatten_1 (Flatten)         (None, 784)               0         \n",
      "                                                                 \n",
      " dense_2 (Dense)             (None, 128)               100480    \n",
      "                                                                 \n",
      " dropout_1 (Dropout)         (None, 128)               0         \n",
      "                                                                 \n",
      " dense_3 (Dense)             (None, 10)                1290      \n",
      "                                                                 \n",
      "=================================================================\n",
      "Total params: 101,770\n",
      "Trainable params: 101,770\n",
      "Non-trainable params: 0\n",
      "_________________________________________________________________\n",
      "\r",
      "1/1 [==============================] - ETA: 0s\b\b\b\b\b\b\b\b\b\b\b\b\b\b\b\b\b\b\b\b\b\b\b\b\b\b\b\b\b\b\b\b\b\b\b\b\b\b\b\b\b\b\b\b\b\b\r",
      "1/1 [==============================] - 0s 91ms/step\n"
     ]
    },
    {
     "name": "stderr",
     "output_type": "stream",
     "text": [
      "127.0.0.1 - - [16/Jan/2023 20:22:38] \"POST /submit HTTP/1.1\" 200 -\n",
      "127.0.0.1 - - [16/Jan/2023 20:22:38] \"GET /script.js HTTP/1.1\" 404 -\n",
      "127.0.0.1 - - [16/Jan/2023 20:22:38] \"GET /style.css HTTP/1.1\" 404 -\n",
      " * Detected change in '/Users/john/Neural Networks/Identifying Digits Project/serverr.py', reloading\n",
      " * Detected change in '/Users/john/Neural Networks/Identifying Digits Project/.~serverr.py', reloading\n",
      " * Detected change in '/Users/john/Neural Networks/Identifying Digits Project/.~serverr.py', reloading\n",
      " * Detected change in '/Users/john/Neural Networks/Identifying Digits Project/.~serverr.py', reloading\n"
     ]
    },
    {
     "name": "stdout",
     "output_type": "stream",
     "text": [
      "[[0.04562007 0.16151993 0.09590641 0.05583221 0.07367452 0.2451682\n",
      "  0.06050808 0.17704946 0.03259752 0.05212365]]\n"
     ]
    },
    {
     "name": "stderr",
     "output_type": "stream",
     "text": [
      " * Restarting with watchdog (fsevents)\n",
      "2023-01-16 20:22:53.136494: I tensorflow/core/platform/cpu_feature_guard.cc:193] This TensorFlow binary is optimized with oneAPI Deep Neural Network Library (oneDNN) to use the following CPU instructions in performance-critical operations:  AVX2 FMA\n",
      "To enable them in other operations, rebuild TensorFlow with the appropriate compiler flags.\n",
      " * Debugger is active!\n",
      " * Debugger PIN: 692-672-937\n",
      "2023-01-16 20:22:57.913829: I tensorflow/core/platform/cpu_feature_guard.cc:193] This TensorFlow binary is optimized with oneAPI Deep Neural Network Library (oneDNN) to use the following CPU instructions in performance-critical operations:  AVX2 FMA\n",
      "To enable them in other operations, rebuild TensorFlow with the appropriate compiler flags.\n"
     ]
    },
    {
     "name": "stdout",
     "output_type": "stream",
     "text": [
      "ImmutableMultiDict([('file', <FileStorage: 'images.png' ('image/png')>)])\n",
      "Loaded model from disk\n",
      "Model: \"sequential_1\"\n",
      "_________________________________________________________________\n",
      " Layer (type)                Output Shape              Param #   \n",
      "=================================================================\n",
      " flatten_1 (Flatten)         (None, 784)               0         \n",
      "                                                                 \n",
      " dense_2 (Dense)             (None, 128)               100480    \n",
      "                                                                 \n",
      " dropout_1 (Dropout)         (None, 128)               0         \n",
      "                                                                 \n",
      " dense_3 (Dense)             (None, 10)                1290      \n",
      "                                                                 \n",
      "=================================================================\n",
      "Total params: 101,770\n",
      "Trainable params: 101,770\n",
      "Non-trainable params: 0\n",
      "_________________________________________________________________\n",
      "\r",
      "1/1 [==============================] - ETA: 0s\b\b\b\b\b\b\b\b\b\b\b\b\b\b\b\b\b\b\b\b\b\b\b\b\b\b\b\b\b\b\b\b\b\b\b\b\b\b\b\b\b\b\b\b\b\b\r",
      "1/1 [==============================] - 0s 95ms/step\n"
     ]
    },
    {
     "name": "stderr",
     "output_type": "stream",
     "text": [
      "127.0.0.1 - - [16/Jan/2023 20:22:58] \"POST /submit HTTP/1.1\" 200 -\n",
      "127.0.0.1 - - [16/Jan/2023 20:22:58] \"GET /script.js HTTP/1.1\" 404 -\n",
      "127.0.0.1 - - [16/Jan/2023 20:22:58] \"GET /style.css HTTP/1.1\" 404 -\n"
     ]
    },
    {
     "name": "stdout",
     "output_type": "stream",
     "text": [
      "[[0.04562007 0.16151993 0.09590641 0.05583221 0.07367452 0.2451682\n",
      "  0.06050808 0.17704946 0.03259752 0.05212365]]\n",
      "ImmutableMultiDict([('file', <FileStorage: 'images.png' ('image/png')>)])\n",
      "Loaded model from disk\n",
      "Model: \"sequential_1\"\n",
      "_________________________________________________________________\n",
      " Layer (type)                Output Shape              Param #   \n",
      "=================================================================\n",
      " flatten_1 (Flatten)         (None, 784)               0         \n",
      "                                                                 \n",
      " dense_2 (Dense)             (None, 128)               100480    \n",
      "                                                                 \n",
      " dropout_1 (Dropout)         (None, 128)               0         \n",
      "                                                                 \n",
      " dense_3 (Dense)             (None, 10)                1290      \n",
      "                                                                 \n",
      "=================================================================\n",
      "Total params: 101,770\n",
      "Trainable params: 101,770\n",
      "Non-trainable params: 0\n",
      "_________________________________________________________________\n",
      "\r",
      "1/1 [==============================] - ETA: 0s\b\b\b\b\b\b\b\b\b\b\b\b\b\b\b\b\b\b\b\b\b\b\b\b\b\b\b\b\b\b\b\b\b\b\b\b\b\b\b\b\b\b\b\b\b\b\r",
      "1/1 [==============================] - 0s 65ms/step\n"
     ]
    },
    {
     "name": "stderr",
     "output_type": "stream",
     "text": [
      "127.0.0.1 - - [16/Jan/2023 20:30:04] \"POST /submit HTTP/1.1\" 200 -\n",
      "127.0.0.1 - - [16/Jan/2023 20:30:04] \"GET /script.js HTTP/1.1\" 404 -\n",
      "127.0.0.1 - - [16/Jan/2023 20:30:04] \"GET /style.css HTTP/1.1\" 404 -\n",
      " * Detected change in '/Users/john/Neural Networks/Identifying Digits Project/serverr.py', reloading\n",
      " * Detected change in '/Users/john/Neural Networks/Identifying Digits Project/.~serverr.py', reloading\n",
      " * Detected change in '/Users/john/Neural Networks/Identifying Digits Project/.~serverr.py', reloading\n",
      " * Detected change in '/Users/john/Neural Networks/Identifying Digits Project/.~serverr.py', reloading\n"
     ]
    },
    {
     "name": "stdout",
     "output_type": "stream",
     "text": [
      "[[0.04562007 0.16151993 0.09590641 0.05583221 0.07367452 0.2451682\n",
      "  0.06050808 0.17704946 0.03259752 0.05212365]]\n"
     ]
    },
    {
     "name": "stderr",
     "output_type": "stream",
     "text": [
      " * Restarting with watchdog (fsevents)\n",
      "2023-01-16 20:32:50.123562: I tensorflow/core/platform/cpu_feature_guard.cc:193] This TensorFlow binary is optimized with oneAPI Deep Neural Network Library (oneDNN) to use the following CPU instructions in performance-critical operations:  AVX2 FMA\n",
      "To enable them in other operations, rebuild TensorFlow with the appropriate compiler flags.\n",
      " * Debugger is active!\n",
      " * Debugger PIN: 692-672-937\n",
      "2023-01-16 20:32:54.960151: I tensorflow/core/platform/cpu_feature_guard.cc:193] This TensorFlow binary is optimized with oneAPI Deep Neural Network Library (oneDNN) to use the following CPU instructions in performance-critical operations:  AVX2 FMA\n",
      "To enable them in other operations, rebuild TensorFlow with the appropriate compiler flags.\n"
     ]
    },
    {
     "name": "stdout",
     "output_type": "stream",
     "text": [
      "ImmutableMultiDict([('file', <FileStorage: 'images.png' ('image/png')>)])\n",
      "Loaded model from disk\n",
      "Model: \"sequential_1\"\n",
      "_________________________________________________________________\n",
      " Layer (type)                Output Shape              Param #   \n",
      "=================================================================\n",
      " flatten_1 (Flatten)         (None, 784)               0         \n",
      "                                                                 \n",
      " dense_2 (Dense)             (None, 128)               100480    \n",
      "                                                                 \n",
      " dropout_1 (Dropout)         (None, 128)               0         \n",
      "                                                                 \n",
      " dense_3 (Dense)             (None, 10)                1290      \n",
      "                                                                 \n",
      "=================================================================\n",
      "Total params: 101,770\n",
      "Trainable params: 101,770\n",
      "Non-trainable params: 0\n",
      "_________________________________________________________________\n",
      "\r",
      "1/1 [==============================] - ETA: 0s\b\b\b\b\b\b\b\b\b\b\b\b\b\b\b\b\b\b\b\b\b\b\b\b\b\b\b\b\b\b\b\b\b\b\b\b\b\b\b\b\b\b\b\b\b\b\r",
      "1/1 [==============================] - 0s 92ms/step\n"
     ]
    },
    {
     "name": "stderr",
     "output_type": "stream",
     "text": [
      "127.0.0.1 - - [16/Jan/2023 20:32:55] \"POST /submit HTTP/1.1\" 200 -\n",
      "127.0.0.1 - - [16/Jan/2023 20:32:55] \"GET /script.js HTTP/1.1\" 404 -\n",
      "127.0.0.1 - - [16/Jan/2023 20:32:55] \"GET /style.css HTTP/1.1\" 404 -\n",
      " * Detected change in '/Users/john/Neural Networks/Identifying Digits Project/serverr.py', reloading\n",
      " * Detected change in '/Users/john/Neural Networks/Identifying Digits Project/.~serverr.py', reloading\n",
      " * Detected change in '/Users/john/Neural Networks/Identifying Digits Project/.~serverr.py', reloading\n",
      " * Detected change in '/Users/john/Neural Networks/Identifying Digits Project/.~serverr.py', reloading\n"
     ]
    },
    {
     "name": "stdout",
     "output_type": "stream",
     "text": [
      "[[0.04562007 0.16151993 0.09590641 0.05583221 0.07367452 0.2451682\n",
      "  0.06050808 0.17704946 0.03259752 0.05212365]]\n"
     ]
    },
    {
     "name": "stderr",
     "output_type": "stream",
     "text": [
      " * Restarting with watchdog (fsevents)\n",
      "2023-01-16 20:33:25.820291: I tensorflow/core/platform/cpu_feature_guard.cc:193] This TensorFlow binary is optimized with oneAPI Deep Neural Network Library (oneDNN) to use the following CPU instructions in performance-critical operations:  AVX2 FMA\n",
      "To enable them in other operations, rebuild TensorFlow with the appropriate compiler flags.\n",
      " * Debugger is active!\n",
      " * Debugger PIN: 692-672-937\n",
      "2023-01-16 20:33:30.643357: I tensorflow/core/platform/cpu_feature_guard.cc:193] This TensorFlow binary is optimized with oneAPI Deep Neural Network Library (oneDNN) to use the following CPU instructions in performance-critical operations:  AVX2 FMA\n",
      "To enable them in other operations, rebuild TensorFlow with the appropriate compiler flags.\n"
     ]
    },
    {
     "name": "stdout",
     "output_type": "stream",
     "text": [
      "ImmutableMultiDict([('file', <FileStorage: 'images.png' ('image/png')>)])\n",
      "Loaded model from disk\n",
      "Model: \"sequential_1\"\n",
      "_________________________________________________________________\n",
      " Layer (type)                Output Shape              Param #   \n",
      "=================================================================\n",
      " flatten_1 (Flatten)         (None, 784)               0         \n",
      "                                                                 \n",
      " dense_2 (Dense)             (None, 128)               100480    \n",
      "                                                                 \n",
      " dropout_1 (Dropout)         (None, 128)               0         \n",
      "                                                                 \n",
      " dense_3 (Dense)             (None, 10)                1290      \n",
      "                                                                 \n",
      "=================================================================\n",
      "Total params: 101,770\n",
      "Trainable params: 101,770\n",
      "Non-trainable params: 0\n",
      "_________________________________________________________________\n",
      "\r",
      "1/1 [==============================] - ETA: 0s\b\b\b\b\b\b\b\b\b\b\b\b\b\b\b\b\b\b\b\b\b\b\b\b\b\b\b\b\b\b\b\b\b\b\b\b\b\b\b\b\b\b\b\b\b\b\r",
      "1/1 [==============================] - 0s 95ms/step\n"
     ]
    },
    {
     "name": "stderr",
     "output_type": "stream",
     "text": [
      "127.0.0.1 - - [16/Jan/2023 20:33:30] \"POST /submit HTTP/1.1\" 200 -\n",
      "127.0.0.1 - - [16/Jan/2023 20:33:30] \"GET /script.js HTTP/1.1\" 404 -\n",
      "127.0.0.1 - - [16/Jan/2023 20:33:30] \"GET /style.css HTTP/1.1\" 404 -\n"
     ]
    },
    {
     "name": "stdout",
     "output_type": "stream",
     "text": [
      "[[0.04562007 0.16151993 0.09590641 0.05583221 0.07367452 0.2451682\n",
      "  0.06050808 0.17704946 0.03259752 0.05212365]]\n",
      "ImmutableMultiDict([('file', <FileStorage: 'images.png' ('image/png')>)])\n",
      "Loaded model from disk\n",
      "Model: \"sequential_1\"\n",
      "_________________________________________________________________\n",
      " Layer (type)                Output Shape              Param #   \n",
      "=================================================================\n",
      " flatten_1 (Flatten)         (None, 784)               0         \n",
      "                                                                 \n",
      " dense_2 (Dense)             (None, 128)               100480    \n",
      "                                                                 \n",
      " dropout_1 (Dropout)         (None, 128)               0         \n",
      "                                                                 \n",
      " dense_3 (Dense)             (None, 10)                1290      \n",
      "                                                                 \n",
      "=================================================================\n",
      "Total params: 101,770\n",
      "Trainable params: 101,770\n",
      "Non-trainable params: 0\n",
      "_________________________________________________________________\n",
      "\r",
      "1/1 [==============================] - ETA: 0s\b\b\b\b\b\b\b\b\b\b\b\b\b\b\b\b\b\b\b\b\b\b\b\b\b\b\b\b\b\b\b\b\b\b\b\b\b\b\b\b\b\b\b\b\b\b\r",
      "1/1 [==============================] - 0s 72ms/step\n"
     ]
    },
    {
     "name": "stderr",
     "output_type": "stream",
     "text": [
      "127.0.0.1 - - [16/Jan/2023 20:33:44] \"POST /submit HTTP/1.1\" 200 -\n",
      "127.0.0.1 - - [16/Jan/2023 20:33:44] \"GET /script.js HTTP/1.1\" 404 -\n",
      "127.0.0.1 - - [16/Jan/2023 20:33:44] \"GET /style.css HTTP/1.1\" 404 -\n"
     ]
    },
    {
     "name": "stdout",
     "output_type": "stream",
     "text": [
      "[[0.04562007 0.16151993 0.09590641 0.05583221 0.07367452 0.2451682\n",
      "  0.06050808 0.17704946 0.03259752 0.05212365]]\n",
      "ImmutableMultiDict([('file', <FileStorage: 'images.png' ('image/png')>)])\n",
      "Loaded model from disk\n",
      "Model: \"sequential_1\"\n",
      "_________________________________________________________________\n",
      " Layer (type)                Output Shape              Param #   \n",
      "=================================================================\n",
      " flatten_1 (Flatten)         (None, 784)               0         \n",
      "                                                                 \n",
      " dense_2 (Dense)             (None, 128)               100480    \n",
      "                                                                 \n",
      " dropout_1 (Dropout)         (None, 128)               0         \n",
      "                                                                 \n",
      " dense_3 (Dense)             (None, 10)                1290      \n",
      "                                                                 \n",
      "=================================================================\n",
      "Total params: 101,770\n",
      "Trainable params: 101,770\n",
      "Non-trainable params: 0\n",
      "_________________________________________________________________\n",
      "\r",
      "1/1 [==============================] - ETA: 0s\b\b\b\b\b\b\b\b\b\b\b\b\b\b\b\b\b\b\b\b\b\b\b\b\b\b\b\b\b\b\b\b\b\b\b\b\b\b\b\b\b\b\b\b\b\b\r",
      "1/1 [==============================] - 0s 106ms/step\n"
     ]
    },
    {
     "name": "stderr",
     "output_type": "stream",
     "text": [
      "127.0.0.1 - - [16/Jan/2023 20:33:52] \"POST /submit HTTP/1.1\" 200 -\n",
      "127.0.0.1 - - [16/Jan/2023 20:33:52] \"GET /script.js HTTP/1.1\" 404 -\n",
      "127.0.0.1 - - [16/Jan/2023 20:33:52] \"GET /style.css HTTP/1.1\" 404 -\n",
      " * Detected change in '/Users/john/Neural Networks/Identifying Digits Project/serverr.py', reloading\n",
      " * Detected change in '/Users/john/Neural Networks/Identifying Digits Project/.~serverr.py', reloading\n",
      " * Detected change in '/Users/john/Neural Networks/Identifying Digits Project/.~serverr.py', reloading\n",
      " * Detected change in '/Users/john/Neural Networks/Identifying Digits Project/.~serverr.py', reloading\n"
     ]
    },
    {
     "name": "stdout",
     "output_type": "stream",
     "text": [
      "[[0.04562007 0.16151993 0.09590641 0.05583221 0.07367452 0.2451682\n",
      "  0.06050808 0.17704946 0.03259752 0.05212365]]\n"
     ]
    },
    {
     "name": "stderr",
     "output_type": "stream",
     "text": [
      " * Restarting with watchdog (fsevents)\n",
      "2023-01-16 20:34:01.221929: I tensorflow/core/platform/cpu_feature_guard.cc:193] This TensorFlow binary is optimized with oneAPI Deep Neural Network Library (oneDNN) to use the following CPU instructions in performance-critical operations:  AVX2 FMA\n",
      "To enable them in other operations, rebuild TensorFlow with the appropriate compiler flags.\n",
      " * Debugger is active!\n",
      " * Debugger PIN: 692-672-937\n",
      "2023-01-16 20:34:06.319934: I tensorflow/core/platform/cpu_feature_guard.cc:193] This TensorFlow binary is optimized with oneAPI Deep Neural Network Library (oneDNN) to use the following CPU instructions in performance-critical operations:  AVX2 FMA\n",
      "To enable them in other operations, rebuild TensorFlow with the appropriate compiler flags.\n"
     ]
    },
    {
     "name": "stdout",
     "output_type": "stream",
     "text": [
      "ImmutableMultiDict([('file', <FileStorage: 'images.png' ('image/png')>)])\n",
      "Loaded model from disk\n",
      "Model: \"sequential_1\"\n",
      "_________________________________________________________________\n",
      " Layer (type)                Output Shape              Param #   \n",
      "=================================================================\n",
      " flatten_1 (Flatten)         (None, 784)               0         \n",
      "                                                                 \n",
      " dense_2 (Dense)             (None, 128)               100480    \n",
      "                                                                 \n",
      " dropout_1 (Dropout)         (None, 128)               0         \n",
      "                                                                 \n",
      " dense_3 (Dense)             (None, 10)                1290      \n",
      "                                                                 \n",
      "=================================================================\n",
      "Total params: 101,770\n",
      "Trainable params: 101,770\n",
      "Non-trainable params: 0\n",
      "_________________________________________________________________\n",
      "1/1 [==============================] - 0s 110ms/step\n"
     ]
    },
    {
     "name": "stderr",
     "output_type": "stream",
     "text": [
      "127.0.0.1 - - [16/Jan/2023 20:34:06] \"POST /submit HTTP/1.1\" 200 -\n",
      "127.0.0.1 - - [16/Jan/2023 20:34:06] \"GET /script.js HTTP/1.1\" 404 -\n",
      "127.0.0.1 - - [16/Jan/2023 20:34:06] \"GET /style.css HTTP/1.1\" 404 -\n",
      " * Detected change in '/Users/john/Neural Networks/Identifying Digits Project/serverr.py', reloading\n",
      " * Detected change in '/Users/john/Neural Networks/Identifying Digits Project/.~serverr.py', reloading\n",
      " * Detected change in '/Users/john/Neural Networks/Identifying Digits Project/.~serverr.py', reloading\n",
      " * Detected change in '/Users/john/Neural Networks/Identifying Digits Project/.~serverr.py', reloading\n"
     ]
    },
    {
     "name": "stdout",
     "output_type": "stream",
     "text": [
      "[[0.04562007 0.16151993 0.09590641 0.05583221 0.07367452 0.2451682\n",
      "  0.06050808 0.17704946 0.03259752 0.05212365]]\n"
     ]
    },
    {
     "name": "stderr",
     "output_type": "stream",
     "text": [
      " * Restarting with watchdog (fsevents)\n",
      "2023-01-16 20:34:19.324160: I tensorflow/core/platform/cpu_feature_guard.cc:193] This TensorFlow binary is optimized with oneAPI Deep Neural Network Library (oneDNN) to use the following CPU instructions in performance-critical operations:  AVX2 FMA\n",
      "To enable them in other operations, rebuild TensorFlow with the appropriate compiler flags.\n",
      " * Debugger is active!\n",
      " * Debugger PIN: 692-672-937\n",
      "2023-01-16 20:34:25.004516: I tensorflow/core/platform/cpu_feature_guard.cc:193] This TensorFlow binary is optimized with oneAPI Deep Neural Network Library (oneDNN) to use the following CPU instructions in performance-critical operations:  AVX2 FMA\n",
      "To enable them in other operations, rebuild TensorFlow with the appropriate compiler flags.\n"
     ]
    },
    {
     "name": "stdout",
     "output_type": "stream",
     "text": [
      "ImmutableMultiDict([('file', <FileStorage: 'images.png' ('image/png')>)])\n",
      "Loaded model from disk\n",
      "Model: \"sequential_1\"\n",
      "_________________________________________________________________\n",
      " Layer (type)                Output Shape              Param #   \n",
      "=================================================================\n",
      " flatten_1 (Flatten)         (None, 784)               0         \n",
      "                                                                 \n",
      " dense_2 (Dense)             (None, 128)               100480    \n",
      "                                                                 \n",
      " dropout_1 (Dropout)         (None, 128)               0         \n",
      "                                                                 \n",
      " dense_3 (Dense)             (None, 10)                1290      \n",
      "                                                                 \n",
      "=================================================================\n",
      "Total params: 101,770\n",
      "Trainable params: 101,770\n",
      "Non-trainable params: 0\n",
      "_________________________________________________________________\n",
      "\r",
      "1/1 [==============================] - ETA: 0s\b\b\b\b\b\b\b\b\b\b\b\b\b\b\b\b\b\b\b\b\b\b\b\b\b\b\b\b\b\b\b\b\b\b\b\b\b\b\b\b\b\b\b\b\b\b\r",
      "1/1 [==============================] - 0s 113ms/step\n"
     ]
    },
    {
     "name": "stderr",
     "output_type": "stream",
     "text": [
      "127.0.0.1 - - [16/Jan/2023 20:34:25] \"POST /submit HTTP/1.1\" 200 -\n",
      "127.0.0.1 - - [16/Jan/2023 20:34:25] \"GET /script.js HTTP/1.1\" 404 -\n",
      "127.0.0.1 - - [16/Jan/2023 20:34:25] \"GET /style.css HTTP/1.1\" 404 -\n",
      " * Detected change in '/Users/john/Neural Networks/Identifying Digits Project/serverr.py', reloading\n",
      " * Detected change in '/Users/john/Neural Networks/Identifying Digits Project/.~serverr.py', reloading\n",
      " * Detected change in '/Users/john/Neural Networks/Identifying Digits Project/.~serverr.py', reloading\n",
      " * Detected change in '/Users/john/Neural Networks/Identifying Digits Project/.~serverr.py', reloading\n"
     ]
    },
    {
     "name": "stdout",
     "output_type": "stream",
     "text": [
      "[[0.04562007 0.16151993 0.09590641 0.05583221 0.07367452 0.2451682\n",
      "  0.06050808 0.17704946 0.03259752 0.05212365]]\n"
     ]
    },
    {
     "name": "stderr",
     "output_type": "stream",
     "text": [
      " * Restarting with watchdog (fsevents)\n",
      "2023-01-16 20:34:33.034044: I tensorflow/core/platform/cpu_feature_guard.cc:193] This TensorFlow binary is optimized with oneAPI Deep Neural Network Library (oneDNN) to use the following CPU instructions in performance-critical operations:  AVX2 FMA\n",
      "To enable them in other operations, rebuild TensorFlow with the appropriate compiler flags.\n",
      " * Debugger is active!\n",
      " * Debugger PIN: 692-672-937\n",
      "2023-01-16 20:34:38.139038: I tensorflow/core/platform/cpu_feature_guard.cc:193] This TensorFlow binary is optimized with oneAPI Deep Neural Network Library (oneDNN) to use the following CPU instructions in performance-critical operations:  AVX2 FMA\n",
      "To enable them in other operations, rebuild TensorFlow with the appropriate compiler flags.\n"
     ]
    },
    {
     "name": "stdout",
     "output_type": "stream",
     "text": [
      "ImmutableMultiDict([('file', <FileStorage: 'images.png' ('image/png')>)])\n",
      "Loaded model from disk\n",
      "Model: \"sequential_1\"\n",
      "_________________________________________________________________\n",
      " Layer (type)                Output Shape              Param #   \n",
      "=================================================================\n",
      " flatten_1 (Flatten)         (None, 784)               0         \n",
      "                                                                 \n",
      " dense_2 (Dense)             (None, 128)               100480    \n",
      "                                                                 \n",
      " dropout_1 (Dropout)         (None, 128)               0         \n",
      "                                                                 \n",
      " dense_3 (Dense)             (None, 10)                1290      \n",
      "                                                                 \n",
      "=================================================================\n",
      "Total params: 101,770\n",
      "Trainable params: 101,770\n",
      "Non-trainable params: 0\n",
      "_________________________________________________________________\n",
      "\r",
      "1/1 [==============================] - ETA: 0s\b\b\b\b\b\b\b\b\b\b\b\b\b\b\b\b\b\b\b\b\b\b\b\b\b\b\b\b\b\b\b\b\b\b\b\b\b\b\b\b\b\b\b\b\b\b\r",
      "1/1 [==============================] - 0s 95ms/step\n"
     ]
    },
    {
     "name": "stderr",
     "output_type": "stream",
     "text": [
      "127.0.0.1 - - [16/Jan/2023 20:34:38] \"POST /submit HTTP/1.1\" 200 -\n",
      "127.0.0.1 - - [16/Jan/2023 20:34:38] \"GET /script.js HTTP/1.1\" 404 -\n",
      "127.0.0.1 - - [16/Jan/2023 20:34:38] \"GET /style.css HTTP/1.1\" 404 -\n"
     ]
    },
    {
     "name": "stdout",
     "output_type": "stream",
     "text": [
      "[[0.04562007 0.16151993 0.09590641 0.05583221 0.07367452 0.2451682\n",
      "  0.06050808 0.17704946 0.03259752 0.05212365]]\n",
      "ImmutableMultiDict([('file', <FileStorage: 'images.png' ('image/png')>)])\n",
      "Loaded model from disk\n",
      "Model: \"sequential_1\"\n",
      "_________________________________________________________________\n",
      " Layer (type)                Output Shape              Param #   \n",
      "=================================================================\n",
      " flatten_1 (Flatten)         (None, 784)               0         \n",
      "                                                                 \n",
      " dense_2 (Dense)             (None, 128)               100480    \n",
      "                                                                 \n",
      " dropout_1 (Dropout)         (None, 128)               0         \n",
      "                                                                 \n",
      " dense_3 (Dense)             (None, 10)                1290      \n",
      "                                                                 \n",
      "=================================================================\n",
      "Total params: 101,770\n",
      "Trainable params: 101,770\n",
      "Non-trainable params: 0\n",
      "_________________________________________________________________\n",
      "\r",
      "1/1 [==============================] - ETA: 0s\b\b\b\b\b\b\b\b\b\b\b\b\b\b\b\b\b\b\b\b\b\b\b\b\b\b\b\b\b\b\b\b\b\b\b\b\b\b\b\b\b\b\b\b\b\b\r",
      "1/1 [==============================] - 0s 82ms/step\n"
     ]
    },
    {
     "name": "stderr",
     "output_type": "stream",
     "text": [
      "127.0.0.1 - - [16/Jan/2023 20:34:43] \"POST /submit HTTP/1.1\" 200 -\n",
      "127.0.0.1 - - [16/Jan/2023 20:34:43] \"GET /script.js HTTP/1.1\" 404 -\n",
      "127.0.0.1 - - [16/Jan/2023 20:34:43] \"GET /style.css HTTP/1.1\" 404 -\n",
      " * Detected change in '/Users/john/Neural Networks/Identifying Digits Project/.~serverr.py', reloading\n",
      " * Detected change in '/Users/john/Neural Networks/Identifying Digits Project/.~serverr.py', reloading\n",
      " * Detected change in '/Users/john/Neural Networks/Identifying Digits Project/serverr.py', reloading\n",
      " * Detected change in '/Users/john/Neural Networks/Identifying Digits Project/serverr.py', reloading\n",
      " * Detected change in '/Users/john/Neural Networks/Identifying Digits Project/.~serverr.py', reloading\n",
      " * Detected change in '/Users/john/Neural Networks/Identifying Digits Project/.~serverr.py', reloading\n"
     ]
    },
    {
     "name": "stdout",
     "output_type": "stream",
     "text": [
      "[[0.04562007 0.16151993 0.09590641 0.05583221 0.07367452 0.2451682\n",
      "  0.06050808 0.17704946 0.03259752 0.05212365]]\n"
     ]
    },
    {
     "name": "stderr",
     "output_type": "stream",
     "text": [
      " * Restarting with watchdog (fsevents)\n",
      "2023-01-16 20:34:50.488090: I tensorflow/core/platform/cpu_feature_guard.cc:193] This TensorFlow binary is optimized with oneAPI Deep Neural Network Library (oneDNN) to use the following CPU instructions in performance-critical operations:  AVX2 FMA\n",
      "To enable them in other operations, rebuild TensorFlow with the appropriate compiler flags.\n",
      " * Debugger is active!\n",
      " * Debugger PIN: 692-672-937\n",
      "2023-01-16 20:34:55.921776: I tensorflow/core/platform/cpu_feature_guard.cc:193] This TensorFlow binary is optimized with oneAPI Deep Neural Network Library (oneDNN) to use the following CPU instructions in performance-critical operations:  AVX2 FMA\n",
      "To enable them in other operations, rebuild TensorFlow with the appropriate compiler flags.\n"
     ]
    },
    {
     "name": "stdout",
     "output_type": "stream",
     "text": [
      "ImmutableMultiDict([('file', <FileStorage: 'images.png' ('image/png')>)])\n",
      "Loaded model from disk\n",
      "Model: \"sequential_1\"\n",
      "_________________________________________________________________\n",
      " Layer (type)                Output Shape              Param #   \n",
      "=================================================================\n",
      " flatten_1 (Flatten)         (None, 784)               0         \n",
      "                                                                 \n",
      " dense_2 (Dense)             (None, 128)               100480    \n",
      "                                                                 \n",
      " dropout_1 (Dropout)         (None, 128)               0         \n",
      "                                                                 \n",
      " dense_3 (Dense)             (None, 10)                1290      \n",
      "                                                                 \n",
      "=================================================================\n",
      "Total params: 101,770\n",
      "Trainable params: 101,770\n",
      "Non-trainable params: 0\n",
      "_________________________________________________________________\n",
      "\r",
      "1/1 [==============================] - ETA: 0s\b\b\b\b\b\b\b\b\b\b\b\b\b\b\b\b\b\b\b\b\b\b\b\b\b\b\b\b\b\b\b\b\b\b\b\b\b\b\b\b\b\b\b\b\b\b\r",
      "1/1 [==============================] - 0s 93ms/step\n"
     ]
    },
    {
     "name": "stderr",
     "output_type": "stream",
     "text": [
      "127.0.0.1 - - [16/Jan/2023 20:34:56] \"POST /submit HTTP/1.1\" 200 -\n",
      "127.0.0.1 - - [16/Jan/2023 20:34:56] \"GET /script.js HTTP/1.1\" 404 -\n",
      "127.0.0.1 - - [16/Jan/2023 20:34:56] \"GET /style.css HTTP/1.1\" 404 -\n",
      " * Detected change in '/Users/john/Neural Networks/Identifying Digits Project/serverr.py', reloading\n",
      " * Detected change in '/Users/john/Neural Networks/Identifying Digits Project/.~serverr.py', reloading\n",
      " * Detected change in '/Users/john/Neural Networks/Identifying Digits Project/.~serverr.py', reloading\n",
      " * Detected change in '/Users/john/Neural Networks/Identifying Digits Project/.~serverr.py', reloading\n"
     ]
    },
    {
     "name": "stdout",
     "output_type": "stream",
     "text": [
      "[[0.04562007 0.16151993 0.09590641 0.05583221 0.07367452 0.2451682\n",
      "  0.06050808 0.17704946 0.03259752 0.05212365]]\n"
     ]
    },
    {
     "name": "stderr",
     "output_type": "stream",
     "text": [
      " * Restarting with watchdog (fsevents)\n",
      "2023-01-16 20:35:06.220314: I tensorflow/core/platform/cpu_feature_guard.cc:193] This TensorFlow binary is optimized with oneAPI Deep Neural Network Library (oneDNN) to use the following CPU instructions in performance-critical operations:  AVX2 FMA\n",
      "To enable them in other operations, rebuild TensorFlow with the appropriate compiler flags.\n",
      " * Debugger is active!\n",
      " * Debugger PIN: 692-672-937\n",
      "2023-01-16 20:35:11.176130: I tensorflow/core/platform/cpu_feature_guard.cc:193] This TensorFlow binary is optimized with oneAPI Deep Neural Network Library (oneDNN) to use the following CPU instructions in performance-critical operations:  AVX2 FMA\n",
      "To enable them in other operations, rebuild TensorFlow with the appropriate compiler flags.\n"
     ]
    },
    {
     "name": "stdout",
     "output_type": "stream",
     "text": [
      "ImmutableMultiDict([('file', <FileStorage: 'images.png' ('image/png')>)])\n",
      "Loaded model from disk\n",
      "Model: \"sequential_1\"\n",
      "_________________________________________________________________\n",
      " Layer (type)                Output Shape              Param #   \n",
      "=================================================================\n",
      " flatten_1 (Flatten)         (None, 784)               0         \n",
      "                                                                 \n",
      " dense_2 (Dense)             (None, 128)               100480    \n",
      "                                                                 \n",
      " dropout_1 (Dropout)         (None, 128)               0         \n",
      "                                                                 \n",
      " dense_3 (Dense)             (None, 10)                1290      \n",
      "                                                                 \n",
      "=================================================================\n",
      "Total params: 101,770\n",
      "Trainable params: 101,770\n",
      "Non-trainable params: 0\n",
      "_________________________________________________________________\n",
      "\r",
      "1/1 [==============================] - ETA: 0s\b\b\b\b\b\b\b\b\b\b\b\b\b\b\b\b\b\b\b\b\b\b\b\b\b\b\b\b\b\b\b\b\b\b\b\b\b\b\b\b\b\b\b\b\b\b\r",
      "1/1 [==============================] - 0s 99ms/step\n"
     ]
    },
    {
     "name": "stderr",
     "output_type": "stream",
     "text": [
      "127.0.0.1 - - [16/Jan/2023 20:35:11] \"POST /submit HTTP/1.1\" 200 -\n",
      "127.0.0.1 - - [16/Jan/2023 20:35:11] \"GET /script.js HTTP/1.1\" 404 -\n",
      "127.0.0.1 - - [16/Jan/2023 20:35:11] \"GET /style.css HTTP/1.1\" 404 -\n",
      " * Detected change in '/Users/john/Neural Networks/Identifying Digits Project/serverr.py', reloading\n",
      " * Detected change in '/Users/john/Neural Networks/Identifying Digits Project/.~serverr.py', reloading\n",
      " * Detected change in '/Users/john/Neural Networks/Identifying Digits Project/.~serverr.py', reloading\n",
      " * Detected change in '/Users/john/Neural Networks/Identifying Digits Project/.~serverr.py', reloading\n"
     ]
    },
    {
     "name": "stdout",
     "output_type": "stream",
     "text": [
      "[[0.04562007 0.16151993 0.09590641 0.05583221 0.07367452 0.2451682\n",
      "  0.06050808 0.17704946 0.03259752 0.05212365]]\n"
     ]
    },
    {
     "name": "stderr",
     "output_type": "stream",
     "text": [
      " * Restarting with watchdog (fsevents)\n",
      "2023-01-16 20:35:21.605470: I tensorflow/core/platform/cpu_feature_guard.cc:193] This TensorFlow binary is optimized with oneAPI Deep Neural Network Library (oneDNN) to use the following CPU instructions in performance-critical operations:  AVX2 FMA\n",
      "To enable them in other operations, rebuild TensorFlow with the appropriate compiler flags.\n",
      " * Debugger is active!\n",
      " * Debugger PIN: 692-672-937\n",
      "2023-01-16 20:35:26.937821: I tensorflow/core/platform/cpu_feature_guard.cc:193] This TensorFlow binary is optimized with oneAPI Deep Neural Network Library (oneDNN) to use the following CPU instructions in performance-critical operations:  AVX2 FMA\n",
      "To enable them in other operations, rebuild TensorFlow with the appropriate compiler flags.\n"
     ]
    },
    {
     "name": "stdout",
     "output_type": "stream",
     "text": [
      "ImmutableMultiDict([('file', <FileStorage: 'images.png' ('image/png')>)])\n",
      "Loaded model from disk\n",
      "Model: \"sequential_1\"\n",
      "_________________________________________________________________\n",
      " Layer (type)                Output Shape              Param #   \n",
      "=================================================================\n",
      " flatten_1 (Flatten)         (None, 784)               0         \n",
      "                                                                 \n",
      " dense_2 (Dense)             (None, 128)               100480    \n",
      "                                                                 \n",
      " dropout_1 (Dropout)         (None, 128)               0         \n",
      "                                                                 \n",
      " dense_3 (Dense)             (None, 10)                1290      \n",
      "                                                                 \n",
      "=================================================================\n",
      "Total params: 101,770\n",
      "Trainable params: 101,770\n",
      "Non-trainable params: 0\n",
      "_________________________________________________________________\n",
      "\r",
      "1/1 [==============================] - ETA: 0s\b\b\b\b\b\b\b\b\b\b\b\b\b\b\b\b\b\b\b\b\b\b\b\b\b\b\b\b\b\b\b\b\b\b\b\b\b\b\b\b\b\b\b\b\b\b\r",
      "1/1 [==============================] - 0s 113ms/step\n"
     ]
    },
    {
     "name": "stderr",
     "output_type": "stream",
     "text": [
      "127.0.0.1 - - [16/Jan/2023 20:35:27] \"POST /submit HTTP/1.1\" 200 -\n",
      "127.0.0.1 - - [16/Jan/2023 20:35:27] \"GET /script.js HTTP/1.1\" 404 -\n",
      "127.0.0.1 - - [16/Jan/2023 20:35:27] \"GET /style.css HTTP/1.1\" 404 -\n",
      "127.0.0.1 - - [16/Jan/2023 20:35:40] \"GET / HTTP/1.1\" 200 -\n",
      "127.0.0.1 - - [16/Jan/2023 20:35:40] \"GET /index.css HTTP/1.1\" 404 -\n",
      "127.0.0.1 - - [16/Jan/2023 20:35:40] \"GET /fileIcon.png HTTP/1.1\" 404 -\n",
      "127.0.0.1 - - [16/Jan/2023 20:35:40] \"GET /submit_Icon.png HTTP/1.1\" 404 -\n",
      "127.0.0.1 - - [16/Jan/2023 20:35:40] \"GET /image.jpeg HTTP/1.1\" 404 -\n"
     ]
    },
    {
     "name": "stdout",
     "output_type": "stream",
     "text": [
      "[[0.04562007 0.16151993 0.09590641 0.05583221 0.07367452 0.2451682\n",
      "  0.06050808 0.17704946 0.03259752 0.05212365]]\n",
      "ImmutableMultiDict([('file', <FileStorage: 'images.png' ('image/png')>)])\n",
      "Loaded model from disk\n",
      "Model: \"sequential_1\"\n",
      "_________________________________________________________________\n",
      " Layer (type)                Output Shape              Param #   \n",
      "=================================================================\n",
      " flatten_1 (Flatten)         (None, 784)               0         \n",
      "                                                                 \n",
      " dense_2 (Dense)             (None, 128)               100480    \n",
      "                                                                 \n",
      " dropout_1 (Dropout)         (None, 128)               0         \n",
      "                                                                 \n",
      " dense_3 (Dense)             (None, 10)                1290      \n",
      "                                                                 \n",
      "=================================================================\n",
      "Total params: 101,770\n",
      "Trainable params: 101,770\n",
      "Non-trainable params: 0\n",
      "_________________________________________________________________\n",
      "\r",
      "1/1 [==============================] - ETA: 0s\b\b\b\b\b\b\b\b\b\b\b\b\b\b\b\b\b\b\b\b\b\b\b\b\b\b\b\b\b\b\b\b\b\b\b\b\b\b\b\b\b\b\b\b\b\b\r",
      "1/1 [==============================] - 0s 54ms/step\n"
     ]
    },
    {
     "name": "stderr",
     "output_type": "stream",
     "text": [
      "127.0.0.1 - - [16/Jan/2023 20:35:47] \"POST /submit HTTP/1.1\" 200 -\n",
      "127.0.0.1 - - [16/Jan/2023 20:35:47] \"GET /script.js HTTP/1.1\" 404 -\n",
      "127.0.0.1 - - [16/Jan/2023 20:35:47] \"GET /style.css HTTP/1.1\" 404 -\n",
      "127.0.0.1 - - [16/Jan/2023 20:35:50] \"GET / HTTP/1.1\" 200 -\n",
      "127.0.0.1 - - [16/Jan/2023 20:35:50] \"GET /index.css HTTP/1.1\" 404 -\n",
      "127.0.0.1 - - [16/Jan/2023 20:35:50] \"GET /fileIcon.png HTTP/1.1\" 404 -\n",
      "127.0.0.1 - - [16/Jan/2023 20:35:50] \"GET /submit_Icon.png HTTP/1.1\" 404 -\n",
      "127.0.0.1 - - [16/Jan/2023 20:35:50] \"GET /image.jpeg HTTP/1.1\" 404 -\n",
      " * Detected change in '/Users/john/Neural Networks/Identifying Digits Project/.~serverr.py', reloading\n",
      " * Detected change in '/Users/john/Neural Networks/Identifying Digits Project/.~serverr.py', reloading\n",
      " * Detected change in '/Users/john/Neural Networks/Identifying Digits Project/serverr.py', reloading\n",
      " * Detected change in '/Users/john/Neural Networks/Identifying Digits Project/serverr.py', reloading\n",
      " * Detected change in '/Users/john/Neural Networks/Identifying Digits Project/.~serverr.py', reloading\n",
      " * Detected change in '/Users/john/Neural Networks/Identifying Digits Project/.~serverr.py', reloading\n"
     ]
    },
    {
     "name": "stdout",
     "output_type": "stream",
     "text": [
      "[[0.04562007 0.16151993 0.09590641 0.05583221 0.07367452 0.2451682\n",
      "  0.06050808 0.17704946 0.03259752 0.05212365]]\n"
     ]
    },
    {
     "name": "stderr",
     "output_type": "stream",
     "text": [
      " * Restarting with watchdog (fsevents)\n",
      "2023-01-16 20:36:45.314427: I tensorflow/core/platform/cpu_feature_guard.cc:193] This TensorFlow binary is optimized with oneAPI Deep Neural Network Library (oneDNN) to use the following CPU instructions in performance-critical operations:  AVX2 FMA\n",
      "To enable them in other operations, rebuild TensorFlow with the appropriate compiler flags.\n",
      " * Debugger is active!\n",
      " * Debugger PIN: 692-672-937\n",
      "127.0.0.1 - - [16/Jan/2023 20:36:50] \"GET / HTTP/1.1\" 200 -\n",
      "127.0.0.1 - - [16/Jan/2023 20:36:50] \"GET /index.css HTTP/1.1\" 404 -\n",
      "127.0.0.1 - - [16/Jan/2023 20:36:50] \"GET /submit_Icon.png HTTP/1.1\" 404 -\n",
      "127.0.0.1 - - [16/Jan/2023 20:36:50] \"GET /image.jpeg HTTP/1.1\" 404 -\n",
      " * Detected change in '/Users/john/Neural Networks/Identifying Digits Project/serverr.py', reloading\n",
      " * Detected change in '/Users/john/Neural Networks/Identifying Digits Project/.~serverr.py', reloading\n",
      " * Detected change in '/Users/john/Neural Networks/Identifying Digits Project/.~serverr.py', reloading\n",
      " * Detected change in '/Users/john/Neural Networks/Identifying Digits Project/.~serverr.py', reloading\n",
      " * Restarting with watchdog (fsevents)\n",
      "2023-01-16 20:43:47.350448: I tensorflow/core/platform/cpu_feature_guard.cc:193] This TensorFlow binary is optimized with oneAPI Deep Neural Network Library (oneDNN) to use the following CPU instructions in performance-critical operations:  AVX2 FMA\n",
      "To enable them in other operations, rebuild TensorFlow with the appropriate compiler flags.\n",
      " * Debugger is active!\n",
      " * Debugger PIN: 692-672-937\n",
      "127.0.0.1 - - [16/Jan/2023 20:43:54] \"GET / HTTP/1.1\" 200 -\n",
      "127.0.0.1 - - [16/Jan/2023 20:43:54] \"GET /index.css HTTP/1.1\" 404 -\n",
      "127.0.0.1 - - [16/Jan/2023 20:43:54] \"GET /image.jpeg HTTP/1.1\" 404 -\n",
      " * Detected change in '/Users/john/Neural Networks/Identifying Digits Project/serverr.py', reloading\n",
      " * Detected change in '/Users/john/Neural Networks/Identifying Digits Project/.~serverr.py', reloading\n",
      " * Detected change in '/Users/john/Neural Networks/Identifying Digits Project/.~serverr.py', reloading\n",
      " * Detected change in '/Users/john/Neural Networks/Identifying Digits Project/.~serverr.py', reloading\n",
      " * Restarting with watchdog (fsevents)\n",
      "2023-01-16 20:44:58.122766: I tensorflow/core/platform/cpu_feature_guard.cc:193] This TensorFlow binary is optimized with oneAPI Deep Neural Network Library (oneDNN) to use the following CPU instructions in performance-critical operations:  AVX2 FMA\n",
      "To enable them in other operations, rebuild TensorFlow with the appropriate compiler flags.\n",
      " * Debugger is active!\n",
      " * Debugger PIN: 692-672-937\n",
      "127.0.0.1 - - [16/Jan/2023 20:45:05] \"GET / HTTP/1.1\" 200 -\n",
      "127.0.0.1 - - [16/Jan/2023 20:45:05] \"GET /index.css HTTP/1.1\" 404 -\n",
      " * Detected change in '/Users/john/Neural Networks/Identifying Digits Project/serverr.py', reloading\n",
      " * Detected change in '/Users/john/Neural Networks/Identifying Digits Project/.~serverr.py', reloading\n",
      " * Detected change in '/Users/john/Neural Networks/Identifying Digits Project/.~serverr.py', reloading\n",
      " * Detected change in '/Users/john/Neural Networks/Identifying Digits Project/.~serverr.py', reloading\n",
      " * Restarting with watchdog (fsevents)\n",
      "2023-01-16 20:45:22.270175: I tensorflow/core/platform/cpu_feature_guard.cc:193] This TensorFlow binary is optimized with oneAPI Deep Neural Network Library (oneDNN) to use the following CPU instructions in performance-critical operations:  AVX2 FMA\n",
      "To enable them in other operations, rebuild TensorFlow with the appropriate compiler flags.\n",
      " * Debugger is active!\n",
      " * Debugger PIN: 692-672-937\n",
      "127.0.0.1 - - [16/Jan/2023 20:45:27] \"GET / HTTP/1.1\" 200 -\n",
      "127.0.0.1 - - [16/Jan/2023 20:45:27] \"GET /index.css HTTP/1.1\" 404 -\n",
      " * Detected change in '/Users/john/Neural Networks/Identifying Digits Project/serverr.py', reloading\n",
      " * Detected change in '/Users/john/Neural Networks/Identifying Digits Project/.~serverr.py', reloading\n",
      " * Detected change in '/Users/john/Neural Networks/Identifying Digits Project/.~serverr.py', reloading\n",
      " * Detected change in '/Users/john/Neural Networks/Identifying Digits Project/.~serverr.py', reloading\n",
      " * Restarting with watchdog (fsevents)\n",
      "2023-01-16 20:46:13.883554: I tensorflow/core/platform/cpu_feature_guard.cc:193] This TensorFlow binary is optimized with oneAPI Deep Neural Network Library (oneDNN) to use the following CPU instructions in performance-critical operations:  AVX2 FMA\n",
      "To enable them in other operations, rebuild TensorFlow with the appropriate compiler flags.\n",
      " * Debugger is active!\n",
      " * Debugger PIN: 692-672-937\n",
      "127.0.0.1 - - [16/Jan/2023 20:46:21] \"GET / HTTP/1.1\" 200 -\n",
      "127.0.0.1 - - [16/Jan/2023 20:46:21] \"GET /index.css HTTP/1.1\" 404 -\n",
      " * Detected change in '/Users/john/Neural Networks/Identifying Digits Project/serverr.py', reloading\n",
      " * Detected change in '/Users/john/Neural Networks/Identifying Digits Project/.~serverr.py', reloading\n",
      " * Detected change in '/Users/john/Neural Networks/Identifying Digits Project/.~serverr.py', reloading\n",
      " * Detected change in '/Users/john/Neural Networks/Identifying Digits Project/.~serverr.py', reloading\n",
      " * Restarting with watchdog (fsevents)\n",
      "2023-01-16 20:46:42.241629: I tensorflow/core/platform/cpu_feature_guard.cc:193] This TensorFlow binary is optimized with oneAPI Deep Neural Network Library (oneDNN) to use the following CPU instructions in performance-critical operations:  AVX2 FMA\n",
      "To enable them in other operations, rebuild TensorFlow with the appropriate compiler flags.\n",
      " * Debugger is active!\n",
      " * Debugger PIN: 692-672-937\n",
      "127.0.0.1 - - [16/Jan/2023 20:46:47] \"GET / HTTP/1.1\" 200 -\n",
      "127.0.0.1 - - [16/Jan/2023 20:46:47] \"GET /index.css HTTP/1.1\" 404 -\n",
      " * Detected change in '/Users/john/Neural Networks/Identifying Digits Project/serverr.py', reloading\n",
      " * Detected change in '/Users/john/Neural Networks/Identifying Digits Project/.~serverr.py', reloading\n",
      " * Detected change in '/Users/john/Neural Networks/Identifying Digits Project/.~serverr.py', reloading\n",
      " * Detected change in '/Users/john/Neural Networks/Identifying Digits Project/.~serverr.py', reloading\n",
      " * Restarting with watchdog (fsevents)\n",
      "2023-01-16 22:01:50.409481: I tensorflow/core/platform/cpu_feature_guard.cc:193] This TensorFlow binary is optimized with oneAPI Deep Neural Network Library (oneDNN) to use the following CPU instructions in performance-critical operations:  AVX2 FMA\n",
      "To enable them in other operations, rebuild TensorFlow with the appropriate compiler flags.\n",
      " * Debugger is active!\n",
      " * Debugger PIN: 692-672-937\n",
      "127.0.0.1 - - [16/Jan/2023 22:01:57] \"GET / HTTP/1.1\" 200 -\n",
      "127.0.0.1 - - [16/Jan/2023 22:01:57] \"GET /index.css HTTP/1.1\" 404 -\n",
      "2023-01-16 22:07:26.462150: I tensorflow/core/platform/cpu_feature_guard.cc:193] This TensorFlow binary is optimized with oneAPI Deep Neural Network Library (oneDNN) to use the following CPU instructions in performance-critical operations:  AVX2 FMA\n",
      "To enable them in other operations, rebuild TensorFlow with the appropriate compiler flags.\n"
     ]
    },
    {
     "name": "stdout",
     "output_type": "stream",
     "text": [
      "ImmutableMultiDict([('file', <FileStorage: 'images.png' ('image/png')>)])\n",
      "Loaded model from disk\n",
      "Model: \"sequential_1\"\n",
      "_________________________________________________________________\n",
      " Layer (type)                Output Shape              Param #   \n",
      "=================================================================\n",
      " flatten_1 (Flatten)         (None, 784)               0         \n",
      "                                                                 \n",
      " dense_2 (Dense)             (None, 128)               100480    \n",
      "                                                                 \n",
      " dropout_1 (Dropout)         (None, 128)               0         \n",
      "                                                                 \n",
      " dense_3 (Dense)             (None, 10)                1290      \n",
      "                                                                 \n",
      "=================================================================\n",
      "Total params: 101,770\n",
      "Trainable params: 101,770\n",
      "Non-trainable params: 0\n",
      "_________________________________________________________________\n",
      "\r",
      "1/1 [==============================] - ETA: 0s\b\b\b\b\b\b\b\b\b\b\b\b\b\b\b\b\b\b\b\b\b\b\b\b\b\b\b\b\b\b\b\b\b\b\b\b\b\b\b\b\b\b\b\b\b\b\r",
      "1/1 [==============================] - 0s 106ms/step\n"
     ]
    },
    {
     "name": "stderr",
     "output_type": "stream",
     "text": [
      "127.0.0.1 - - [16/Jan/2023 22:07:26] \"POST /submit HTTP/1.1\" 200 -\n",
      "127.0.0.1 - - [16/Jan/2023 22:07:26] \"GET /script.js HTTP/1.1\" 404 -\n",
      "127.0.0.1 - - [16/Jan/2023 22:07:26] \"GET /style.css HTTP/1.1\" 404 -\n",
      "127.0.0.1 - - [16/Jan/2023 22:07:35] \"GET / HTTP/1.1\" 200 -\n",
      "127.0.0.1 - - [16/Jan/2023 22:07:35] \"GET /index.css HTTP/1.1\" 404 -\n",
      "127.0.0.1 - - [16/Jan/2023 22:08:36] \"POST /submit HTTP/1.1\" 500 -\n",
      "Traceback (most recent call last):\n",
      "  File \"/Users/john/opt/anaconda3/lib/python3.9/site-packages/flask/app.py\", line 2464, in __call__\n",
      "    return self.wsgi_app(environ, start_response)\n",
      "  File \"/Users/john/opt/anaconda3/lib/python3.9/site-packages/flask/app.py\", line 2450, in wsgi_app\n",
      "    response = self.handle_exception(e)\n",
      "  File \"/Users/john/opt/anaconda3/lib/python3.9/site-packages/flask/app.py\", line 1867, in handle_exception\n",
      "    reraise(exc_type, exc_value, tb)\n",
      "  File \"/Users/john/opt/anaconda3/lib/python3.9/site-packages/flask/_compat.py\", line 39, in reraise\n",
      "    raise value\n",
      "  File \"/Users/john/opt/anaconda3/lib/python3.9/site-packages/flask/app.py\", line 2447, in wsgi_app\n",
      "    response = self.full_dispatch_request()\n",
      "  File \"/Users/john/opt/anaconda3/lib/python3.9/site-packages/flask/app.py\", line 1952, in full_dispatch_request\n",
      "    rv = self.handle_user_exception(e)\n",
      "  File \"/Users/john/opt/anaconda3/lib/python3.9/site-packages/flask/app.py\", line 1821, in handle_user_exception\n",
      "    reraise(exc_type, exc_value, tb)\n",
      "  File \"/Users/john/opt/anaconda3/lib/python3.9/site-packages/flask/_compat.py\", line 39, in reraise\n",
      "    raise value\n",
      "  File \"/Users/john/opt/anaconda3/lib/python3.9/site-packages/flask/app.py\", line 1950, in full_dispatch_request\n",
      "    rv = self.dispatch_request()\n",
      "  File \"/Users/john/opt/anaconda3/lib/python3.9/site-packages/flask/app.py\", line 1936, in dispatch_request\n",
      "    return self.view_functions[rule.endpoint](**req.view_args)\n",
      "  File \"/Users/john/Neural Networks/Identifying Digits Project/serverr.py\", line 293, in upload_Shii\n",
      "    return pop_result_page(main_func(fname[0], fname[1]), (fname[0]+fname[1]))\n",
      "  File \"/Users/john/Neural Networks/Identifying Digits Project/evaluation.py\", line 114, in main_func\n",
      "    obj.resize_recolor()\n",
      "  File \"/Users/john/Neural Networks/Identifying Digits Project/evaluation.py\", line 28, in resize_recolor\n",
      "    original_image = Image.open(f\"{self.filename}{self.typefilename}\")\n",
      "  File \"/Users/john/opt/anaconda3/lib/python3.9/site-packages/PIL/Image.py\", line 3147, in open\n",
      "    raise UnidentifiedImageError(\n",
      "PIL.UnidentifiedImageError: cannot identify image file '5.svg'\n",
      "127.0.0.1 - - [16/Jan/2023 22:08:36] \"GET /submit?__debugger__=yes&cmd=resource&f=debugger.js HTTP/1.1\" 200 -\n",
      "127.0.0.1 - - [16/Jan/2023 22:08:36] \"GET /submit?__debugger__=yes&cmd=resource&f=style.css HTTP/1.1\" 200 -\n",
      "127.0.0.1 - - [16/Jan/2023 22:08:36] \"GET /submit?__debugger__=yes&cmd=resource&f=console.png HTTP/1.1\" 200 -\n",
      "127.0.0.1 - - [16/Jan/2023 22:08:36] \"GET /submit?__debugger__=yes&cmd=resource&f=ubuntu.ttf HTTP/1.1\" 200 -\n",
      "127.0.0.1 - - [16/Jan/2023 22:08:36] \"GET /submit?__debugger__=yes&cmd=resource&f=console.png HTTP/1.1\" 200 -\n",
      "127.0.0.1 - - [16/Jan/2023 22:09:20] \"GET / HTTP/1.1\" 200 -\n",
      "127.0.0.1 - - [16/Jan/2023 22:09:21] \"GET /index.css HTTP/1.1\" 404 -\n"
     ]
    },
    {
     "name": "stdout",
     "output_type": "stream",
     "text": [
      "[[0.04562007 0.16151993 0.09590641 0.05583221 0.07367452 0.2451682\n",
      "  0.06050808 0.17704946 0.03259752 0.05212365]]\n",
      "ImmutableMultiDict([('file', <FileStorage: '5.svg' ('image/svg+xml')>)])\n",
      "ImmutableMultiDict([('file', <FileStorage: 'images.jpeg' ('image/jpeg')>)])\n",
      "Loaded model from disk\n",
      "Model: \"sequential_1\"\n",
      "_________________________________________________________________\n",
      " Layer (type)                Output Shape              Param #   \n",
      "=================================================================\n",
      " flatten_1 (Flatten)         (None, 784)               0         \n",
      "                                                                 \n",
      " dense_2 (Dense)             (None, 128)               100480    \n",
      "                                                                 \n",
      " dropout_1 (Dropout)         (None, 128)               0         \n",
      "                                                                 \n",
      " dense_3 (Dense)             (None, 10)                1290      \n",
      "                                                                 \n",
      "=================================================================\n",
      "Total params: 101,770\n",
      "Trainable params: 101,770\n",
      "Non-trainable params: 0\n",
      "_________________________________________________________________\n",
      "\r",
      "1/1 [==============================] - ETA: 0s\b\b\b\b\b\b\b\b\b\b\b\b\b\b\b\b\b\b\b\b\b\b\b\b\b\b\b\b\b\b\b\b\b\b\b\b\b\b\b\b\b\b\b\b\b\b\r",
      "1/1 [==============================] - 0s 51ms/step\n"
     ]
    },
    {
     "name": "stderr",
     "output_type": "stream",
     "text": [
      "127.0.0.1 - - [16/Jan/2023 22:09:28] \"POST /submit HTTP/1.1\" 200 -\n",
      "127.0.0.1 - - [16/Jan/2023 22:09:28] \"GET /script.js HTTP/1.1\" 404 -\n",
      "127.0.0.1 - - [16/Jan/2023 22:09:28] \"GET /style.css HTTP/1.1\" 404 -\n",
      "127.0.0.1 - - [16/Jan/2023 22:17:56] \"GET / HTTP/1.1\" 200 -\n",
      "127.0.0.1 - - [16/Jan/2023 22:17:56] \"GET /index.css HTTP/1.1\" 404 -\n",
      " * Detected change in '/Users/john/Neural Networks/Identifying Digits Project/serverr.py', reloading\n",
      " * Detected change in '/Users/john/Neural Networks/Identifying Digits Project/.~serverr.py', reloading\n",
      " * Detected change in '/Users/john/Neural Networks/Identifying Digits Project/.~serverr.py', reloading\n",
      " * Detected change in '/Users/john/Neural Networks/Identifying Digits Project/.~serverr.py', reloading\n"
     ]
    },
    {
     "name": "stdout",
     "output_type": "stream",
     "text": [
      "[[0.04865127 0.15562055 0.09283128 0.0533566  0.07953807 0.25052983\n",
      "  0.06369165 0.16780041 0.03405501 0.05392528]]\n"
     ]
    },
    {
     "name": "stderr",
     "output_type": "stream",
     "text": [
      " * Restarting with watchdog (fsevents)\n",
      "2023-01-16 22:18:31.434909: I tensorflow/core/platform/cpu_feature_guard.cc:193] This TensorFlow binary is optimized with oneAPI Deep Neural Network Library (oneDNN) to use the following CPU instructions in performance-critical operations:  AVX2 FMA\n",
      "To enable them in other operations, rebuild TensorFlow with the appropriate compiler flags.\n",
      " * Debugger is active!\n",
      " * Debugger PIN: 692-672-937\n",
      "127.0.0.1 - - [16/Jan/2023 22:18:40] \"GET / HTTP/1.1\" 200 -\n",
      "127.0.0.1 - - [16/Jan/2023 22:18:40] \"GET /index.css HTTP/1.1\" 404 -\n",
      "2023-01-16 22:18:48.214735: I tensorflow/core/platform/cpu_feature_guard.cc:193] This TensorFlow binary is optimized with oneAPI Deep Neural Network Library (oneDNN) to use the following CPU instructions in performance-critical operations:  AVX2 FMA\n",
      "To enable them in other operations, rebuild TensorFlow with the appropriate compiler flags.\n"
     ]
    },
    {
     "name": "stdout",
     "output_type": "stream",
     "text": [
      "ImmutableMultiDict([('file', <FileStorage: 'images.jpeg' ('image/jpeg')>)])\n",
      "Loaded model from disk\n",
      "Model: \"sequential_1\"\n",
      "_________________________________________________________________\n",
      " Layer (type)                Output Shape              Param #   \n",
      "=================================================================\n",
      " flatten_1 (Flatten)         (None, 784)               0         \n",
      "                                                                 \n",
      " dense_2 (Dense)             (None, 128)               100480    \n",
      "                                                                 \n",
      " dropout_1 (Dropout)         (None, 128)               0         \n",
      "                                                                 \n",
      " dense_3 (Dense)             (None, 10)                1290      \n",
      "                                                                 \n",
      "=================================================================\n",
      "Total params: 101,770\n",
      "Trainable params: 101,770\n",
      "Non-trainable params: 0\n",
      "_________________________________________________________________\n",
      "\r",
      "1/1 [==============================] - ETA: 0s\b\b\b\b\b\b\b\b\b\b\b\b\b\b\b\b\b\b\b\b\b\b\b\b\b\b\b\b\b\b\b\b\b\b\b\b\b\b\b\b\b\b\b\b\b\b\r",
      "1/1 [==============================] - 0s 94ms/step\n"
     ]
    },
    {
     "name": "stderr",
     "output_type": "stream",
     "text": [
      "127.0.0.1 - - [16/Jan/2023 22:18:48] \"POST /submit HTTP/1.1\" 200 -\n",
      "127.0.0.1 - - [16/Jan/2023 22:18:48] \"GET /script.js HTTP/1.1\" 404 -\n",
      "127.0.0.1 - - [16/Jan/2023 22:18:48] \"GET /style.css HTTP/1.1\" 404 -\n",
      " * Detected change in '/Users/john/Neural Networks/Identifying Digits Project/serverr.py', reloading\n",
      " * Detected change in '/Users/john/Neural Networks/Identifying Digits Project/.~serverr.py', reloading\n",
      " * Detected change in '/Users/john/Neural Networks/Identifying Digits Project/.~serverr.py', reloading\n",
      " * Detected change in '/Users/john/Neural Networks/Identifying Digits Project/.~serverr.py', reloading\n"
     ]
    },
    {
     "name": "stdout",
     "output_type": "stream",
     "text": [
      "[[0.04865127 0.15562055 0.09283128 0.0533566  0.07953807 0.25052983\n",
      "  0.06369165 0.16780041 0.03405501 0.05392528]]\n"
     ]
    },
    {
     "name": "stderr",
     "output_type": "stream",
     "text": [
      " * Restarting with watchdog (fsevents)\n",
      "2023-01-16 22:19:19.305196: I tensorflow/core/platform/cpu_feature_guard.cc:193] This TensorFlow binary is optimized with oneAPI Deep Neural Network Library (oneDNN) to use the following CPU instructions in performance-critical operations:  AVX2 FMA\n",
      "To enable them in other operations, rebuild TensorFlow with the appropriate compiler flags.\n",
      " * Debugger is active!\n",
      " * Debugger PIN: 692-672-937\n",
      "2023-01-16 22:19:27.569913: I tensorflow/core/platform/cpu_feature_guard.cc:193] This TensorFlow binary is optimized with oneAPI Deep Neural Network Library (oneDNN) to use the following CPU instructions in performance-critical operations:  AVX2 FMA\n",
      "To enable them in other operations, rebuild TensorFlow with the appropriate compiler flags.\n"
     ]
    },
    {
     "name": "stdout",
     "output_type": "stream",
     "text": [
      "ImmutableMultiDict([('file', <FileStorage: 'images.jpeg' ('image/jpeg')>)])\n",
      "Loaded model from disk\n",
      "Model: \"sequential_1\"\n",
      "_________________________________________________________________\n",
      " Layer (type)                Output Shape              Param #   \n",
      "=================================================================\n",
      " flatten_1 (Flatten)         (None, 784)               0         \n",
      "                                                                 \n",
      " dense_2 (Dense)             (None, 128)               100480    \n",
      "                                                                 \n",
      " dropout_1 (Dropout)         (None, 128)               0         \n",
      "                                                                 \n",
      " dense_3 (Dense)             (None, 10)                1290      \n",
      "                                                                 \n",
      "=================================================================\n",
      "Total params: 101,770\n",
      "Trainable params: 101,770\n",
      "Non-trainable params: 0\n",
      "_________________________________________________________________\n",
      "\r",
      "1/1 [==============================] - ETA: 0s\b\b\b\b\b\b\b\b\b\b\b\b\b\b\b\b\b\b\b\b\b\b\b\b\b\b\b\b\b\b\b\b\b\b\b\b\b\b\b\b\b\b\b\b\b\b\r",
      "1/1 [==============================] - 0s 100ms/step\n"
     ]
    },
    {
     "name": "stderr",
     "output_type": "stream",
     "text": [
      "127.0.0.1 - - [16/Jan/2023 22:19:27] \"POST /submit HTTP/1.1\" 200 -\n",
      "127.0.0.1 - - [16/Jan/2023 22:19:27] \"GET /script.js HTTP/1.1\" 404 -\n",
      "127.0.0.1 - - [16/Jan/2023 22:19:27] \"GET /style.css HTTP/1.1\" 404 -\n",
      " * Detected change in '/Users/john/Neural Networks/Identifying Digits Project/serverr.py', reloading\n",
      " * Detected change in '/Users/john/Neural Networks/Identifying Digits Project/.~serverr.py', reloading\n",
      " * Detected change in '/Users/john/Neural Networks/Identifying Digits Project/.~serverr.py', reloading\n",
      " * Detected change in '/Users/john/Neural Networks/Identifying Digits Project/.~serverr.py', reloading\n"
     ]
    },
    {
     "name": "stdout",
     "output_type": "stream",
     "text": [
      "[[0.04865127 0.15562055 0.09283128 0.0533566  0.07953807 0.25052983\n",
      "  0.06369165 0.16780041 0.03405501 0.05392528]]\n"
     ]
    }
   ],
   "source": [
    "%run serverr.py\n",
    "\n",
    "\n",
    "\n",
    "\n",
    "\n",
    "\n",
    "\n",
    "\n",
    "\n"
   ]
  },
  {
   "cell_type": "code",
   "execution_count": 3,
   "id": "93a843d3",
   "metadata": {},
   "outputs": [],
   "source": [
    "#from flask import Flask, render_template\n",
    "\n",
    "\n",
    "#app = Flask(__name__)\n",
    "#\n",
    "#with open('index.html', 'r') as f:\n",
    "  #  html_string = f.read()\n",
    "    \n",
    "#@app.route(\"/\")\n",
    "#def hello_world():\n",
    "#    return render_template('index.html')\n",
    "    #return \"<p> Ya dumb</p>\n",
    "\n",
    "\n",
    "#if __name__ == '__main__':\n",
    "#     app.run(debug = True)\n",
    "\n",
    "\n",
    "\n",
    "#import import_ipynb\n",
    "#import Converting_Image_and_Evaluating_it #as nn\n",
    "#%run Converting_Image_and_Evaluating_it.ipynb import main_func\n",
    "#from flask import Flask, render_template\n",
    "\n",
    "#print(main_func('THREEEEEEE','.png',3) )  \n",
    "#app = Flask(__name__)\n",
    "\n",
    "\n",
    "#def handleFile(fn: str):\n",
    "    \n",
    "\n",
    "    \n",
    "\n",
    "#@app.route('/',methods = ['POST', 'GET'])\n",
    "#def req():\n",
    "    #render_template('index.html')\n",
    "    #if request.method == 'POST':\n",
    "     #   user_content = request.form['content']\n",
    "        \n",
    "     #   try: \n",
    "      #      model = main_func()\n",
    "      #  except:\n",
    "      #      print('yo its not working foo')\n",
    "    \n",
    "      #return redirect(url_for('success',name = user))\n",
    "\n",
    "   #else:\n",
    "     # user = request.args.get('nm')\n",
    "     # return redirect(url_for('success',name = user))\n",
    "\n",
    "#app = Flask(__name__)\n",
    "\n",
    "#@app.route(\"/\")\n",
    "#def hello_world():\n",
    " #   return \"<p>Hello, World!</p>\"\n",
    "#\n",
    "\n",
    "#if __name__ == '__main__':\n",
    "#     app.run(debug = True)\n"
   ]
  },
  {
   "cell_type": "code",
   "execution_count": null,
   "id": "94fe97c4",
   "metadata": {},
   "outputs": [],
   "source": []
  },
  {
   "cell_type": "code",
   "execution_count": null,
   "id": "17d72b75",
   "metadata": {},
   "outputs": [],
   "source": []
  }
 ],
 "metadata": {
  "kernelspec": {
   "display_name": "Python 3 (ipykernel)",
   "language": "python",
   "name": "python3"
  },
  "language_info": {
   "codemirror_mode": {
    "name": "ipython",
    "version": 3
   },
   "file_extension": ".py",
   "mimetype": "text/x-python",
   "name": "python",
   "nbconvert_exporter": "python",
   "pygments_lexer": "ipython3",
   "version": "3.9.13"
  },
  "vscode": {
   "interpreter": {
    "hash": "31f2aee4e71d21fbe5cf8b01ff0e069b9275f58929596ceb00d14d90e3e16cd6"
   }
  }
 },
 "nbformat": 4,
 "nbformat_minor": 5
}
