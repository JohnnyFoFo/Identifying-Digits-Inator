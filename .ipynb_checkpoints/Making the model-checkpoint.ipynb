{
 "cells": [
  {
   "cell_type": "markdown",
   "id": "c554c99e",
   "metadata": {},
   "source": [
    "# Making a Neural Network for Classifying Handwritten Digits\n"
   ]
  },
  {
   "cell_type": "markdown",
   "id": "4f00a4b9",
   "metadata": {},
   "source": [
    "## Importing libraries"
   ]
  },
  {
   "cell_type": "code",
   "execution_count": 8,
   "id": "a81cc301",
   "metadata": {},
   "outputs": [],
   "source": [
    "import tensorflow as tf\n",
    "from tensorflow import keras\n",
    "from tensorflow.keras import layers\n",
    "from sklearn.model_selection import train_test_split\n",
    "import numpy as np\n",
    "import pandas as pd\n",
    "from keras.models import Sequential\n",
    "from keras.layers import Dense, Dropout, Activation, LeakyReLU, Flatten\n",
    "from keras.metrics import AUC\n",
    "from keras import backend as K\n",
    "from keras.datasets import mnist"
   ]
  },
  {
   "cell_type": "markdown",
   "id": "ea645edc",
   "metadata": {},
   "source": [
    "## Splitting Data"
   ]
  },
  {
   "cell_type": "markdown",
   "id": "e737f1eb",
   "metadata": {},
   "source": [
    "https://deepai.org/datasets is good websites for datasets"
   ]
  },
  {
   "cell_type": "code",
   "execution_count": 9,
   "id": "25a94de1",
   "metadata": {},
   "outputs": [
    {
     "name": "stdout",
     "output_type": "stream",
     "text": [
      "<class 'numpy.uint8'>\n"
     ]
    }
   ],
   "source": [
    "(X_train, y_train), (X_test, y_test) = mnist.load_data()\n",
    "X_train, X_test = X_train/255, X_test/255\n",
    "\n",
    "\n",
    "\n",
    " #when I wanna read the model and make the model\n",
    "# load json and create model\n",
    "#json_file = open('model.json', 'r')\n",
    "#loaded_model_json = json_file.read()\n",
    "#json_file.close()\n",
    "#loaded_model = model_from_json(loaded_model_json)\n",
    "# load weights into new model\n",
    "#loaded_model.load_weights(\"model.h5\")\n",
    "##print(\"Loaded model from disk\")\n",
    "\n",
    "print(type(y_train[1]))\n",
    "#print(type(X_train))"
   ]
  },
  {
   "cell_type": "markdown",
   "id": "7be0a582",
   "metadata": {},
   "source": [
    "## Making the Architecture\n"
   ]
  },
  {
   "cell_type": "code",
   "execution_count": 10,
   "id": "a3c5d48f",
   "metadata": {},
   "outputs": [],
   "source": [
    "\n",
    "\n",
    "model = Sequential()\n",
    "\n",
    "\n",
    "model.add(Flatten(input_shape=(28,28)))\n",
    "model.add(Dense(128, activation='relu'))\n",
    "model.add(Dropout(0.2))\n",
    "model.add(Dense(10,activation='softmax'))\n",
    "\n",
    "\n",
    "\n"
   ]
  },
  {
   "cell_type": "markdown",
   "id": "b9b89cfe",
   "metadata": {},
   "source": [
    "##  Compiling the model and fitting the training data"
   ]
  },
  {
   "cell_type": "code",
   "execution_count": null,
   "id": "b6e434b2",
   "metadata": {},
   "outputs": [
    {
     "name": "stdout",
     "output_type": "stream",
     "text": [
      "Epoch 1/5\n",
      "1875/1875 [==============================] - 4s 2ms/step - loss: 0.2963 - accuracy: 0.9140\n",
      "Epoch 2/5\n",
      " 548/1875 [=======>......................] - ETA: 2s - loss: 0.1506 - accuracy: 0.9547"
     ]
    }
   ],
   "source": [
    "model.compile(\n",
    "    loss='sparse_categorical_crossentropy',\n",
    "    optimizer='adam',\n",
    "    metrics=['accuracy'])\n",
    "\n",
    "model.fit(X_train,\n",
    "          y_train, \n",
    "          epochs=5)\n",
    "model.summary()"
   ]
  },
  {
   "cell_type": "markdown",
   "id": "b1ed38f4",
   "metadata": {},
   "source": [
    "## testing the model"
   ]
  },
  {
   "cell_type": "code",
   "execution_count": null,
   "id": "3e6f0f1b",
   "metadata": {},
   "outputs": [],
   "source": [
    "model.evaluate(X_test,y_test) \n",
    "\n",
    "#epochs=5,optimizer=adam [.06798,0.9803]\n",
    "#epochs=10 optimizer=adam, [.073, .9804]"
   ]
  },
  {
   "cell_type": "markdown",
   "id": "395bc207",
   "metadata": {},
   "source": [
    "## saving model to JSON"
   ]
  },
  {
   "cell_type": "code",
   "execution_count": null,
   "id": "dac38187",
   "metadata": {},
   "outputs": [],
   "source": [
    "model_json = model.to_json()\n",
    "with open(\"model.json\", \"w\") as json_file:\n",
    "    json_file.write(model_json)\n",
    " #serialize weights to HDF5\n",
    "model.save_weights(\"model.h5\")\n",
    "print(\"Saved model to disk\")"
   ]
  }
 ],
 "metadata": {
  "kernelspec": {
   "display_name": "Python 3 (ipykernel)",
   "language": "python",
   "name": "python3"
  },
  "language_info": {
   "codemirror_mode": {
    "name": "ipython",
    "version": 3
   },
   "file_extension": ".py",
   "mimetype": "text/x-python",
   "name": "python",
   "nbconvert_exporter": "python",
   "pygments_lexer": "ipython3",
   "version": "3.9.13"
  }
 },
 "nbformat": 4,
 "nbformat_minor": 5
}
