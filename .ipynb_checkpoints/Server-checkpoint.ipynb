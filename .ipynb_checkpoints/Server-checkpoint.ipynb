{
 "cells": [
  {
   "cell_type": "code",
   "execution_count": 1,
   "id": "b67d3c7f",
   "metadata": {},
   "outputs": [],
   "source": [
    "#%tb"
   ]
  },
  {
   "cell_type": "code",
   "execution_count": null,
   "id": "1b1b7df2",
   "metadata": {},
   "outputs": [
    {
     "name": "stderr",
     "output_type": "stream",
     "text": [
      "2022-12-06 15:49:52.455425: I tensorflow/core/platform/cpu_feature_guard.cc:193] This TensorFlow binary is optimized with oneAPI Deep Neural Network Library (oneDNN) to use the following CPU instructions in performance-critical operations:  AVX2 FMA\n",
      "To enable them in other operations, rebuild TensorFlow with the appropriate compiler flags.\n"
     ]
    },
    {
     "name": "stdout",
     "output_type": "stream",
     "text": [
      " * Serving Flask app \"serverr\" (lazy loading)\n",
      " * Environment: production\n",
      "\u001b[31m   WARNING: This is a development server. Do not use it in a production deployment.\u001b[0m\n",
      "\u001b[2m   Use a production WSGI server instead.\u001b[0m\n",
      " * Debug mode: on\n"
     ]
    },
    {
     "name": "stderr",
     "output_type": "stream",
     "text": [
      " * Running on http://127.0.0.1:5000/ (Press CTRL+C to quit)\n",
      " * Restarting with watchdog (fsevents)\n",
      "2022-12-06 15:50:08.757375: I tensorflow/core/platform/cpu_feature_guard.cc:193] This TensorFlow binary is optimized with oneAPI Deep Neural Network Library (oneDNN) to use the following CPU instructions in performance-critical operations:  AVX2 FMA\n",
      "To enable them in other operations, rebuild TensorFlow with the appropriate compiler flags.\n",
      " * Debugger is active!\n",
      " * Debugger PIN: 910-531-651\n",
      "127.0.0.1 - - [06/Dec/2022 15:50:16] \"GET / HTTP/1.1\" 200 -\n",
      "127.0.0.1 - - [06/Dec/2022 15:50:16] \"GET /script.js HTTP/1.1\" 404 -\n",
      "127.0.0.1 - - [06/Dec/2022 15:50:16] \"GET /style.css HTTP/1.1\" 404 -\n",
      "127.0.0.1 - - [06/Dec/2022 15:50:16] \"GET /favicon.ico HTTP/1.1\" 404 -\n",
      "2022-12-07 07:45:58.439824: I tensorflow/core/platform/cpu_feature_guard.cc:193] This TensorFlow binary is optimized with oneAPI Deep Neural Network Library (oneDNN) to use the following CPU instructions in performance-critical operations:  AVX2 FMA\n",
      "To enable them in other operations, rebuild TensorFlow with the appropriate compiler flags.\n"
     ]
    },
    {
     "name": "stdout",
     "output_type": "stream",
     "text": [
      "Loaded model from disk\n",
      "Model: \"sequential_1\"\n",
      "_________________________________________________________________\n",
      " Layer (type)                Output Shape              Param #   \n",
      "=================================================================\n",
      " flatten_1 (Flatten)         (None, 784)               0         \n",
      "                                                                 \n",
      " dense_2 (Dense)             (None, 128)               100480    \n",
      "                                                                 \n",
      " dropout_1 (Dropout)         (None, 128)               0         \n",
      "                                                                 \n",
      " dense_3 (Dense)             (None, 10)                1290      \n",
      "                                                                 \n",
      "=================================================================\n",
      "Total params: 101,770\n",
      "Trainable params: 101,770\n",
      "Non-trainable params: 0\n",
      "_________________________________________________________________\n",
      "1/1 [==============================] - 0s 293ms/step\n"
     ]
    },
    {
     "name": "stderr",
     "output_type": "stream",
     "text": [
      "127.0.0.1 - - [07/Dec/2022 07:45:59] \"POST /submit HTTP/1.1\" 200 -\n",
      "127.0.0.1 - - [07/Dec/2022 07:45:59] \"GET /script.js HTTP/1.1\" 404 -\n",
      "127.0.0.1 - - [07/Dec/2022 07:45:59] \"GET /style.css HTTP/1.1\" 404 -\n",
      "127.0.0.1 - - [07/Dec/2022 07:45:59] \"GET /7.png HTTP/1.1\" 404 -\n",
      "127.0.0.1 - - [07/Dec/2022 07:48:59] \"GET / HTTP/1.1\" 200 -\n",
      "127.0.0.1 - - [07/Dec/2022 07:48:59] \"GET /script.js HTTP/1.1\" 404 -\n",
      "127.0.0.1 - - [07/Dec/2022 07:48:59] \"GET /style.css HTTP/1.1\" 404 -\n"
     ]
    },
    {
     "name": "stdout",
     "output_type": "stream",
     "text": [
      "[[0.0227504  0.07832355 0.05519273 0.07896518 0.04560271 0.0905974\n",
      "  0.00998712 0.48497444 0.02526612 0.10834029]]\n",
      "Loaded model from disk\n",
      "Model: \"sequential_1\"\n",
      "_________________________________________________________________\n",
      " Layer (type)                Output Shape              Param #   \n",
      "=================================================================\n",
      " flatten_1 (Flatten)         (None, 784)               0         \n",
      "                                                                 \n",
      " dense_2 (Dense)             (None, 128)               100480    \n",
      "                                                                 \n",
      " dropout_1 (Dropout)         (None, 128)               0         \n",
      "                                                                 \n",
      " dense_3 (Dense)             (None, 10)                1290      \n",
      "                                                                 \n",
      "=================================================================\n",
      "Total params: 101,770\n",
      "Trainable params: 101,770\n",
      "Non-trainable params: 0\n",
      "_________________________________________________________________\n",
      "\r",
      "1/1 [==============================] - ETA: 0s\b\b\b\b\b\b\b\b\b\b\b\b\b\b\b\b\b\b\b\b\b\b\b\b\b\b\b\b\b\b\b\b\b\b\b\b\b\b\b\b\b\b\b\b\b\b\r",
      "1/1 [==============================] - 0s 94ms/step\n"
     ]
    },
    {
     "name": "stderr",
     "output_type": "stream",
     "text": [
      "127.0.0.1 - - [07/Dec/2022 07:49:04] \"POST /submit HTTP/1.1\" 200 -\n",
      "127.0.0.1 - - [07/Dec/2022 07:49:04] \"GET /script.js HTTP/1.1\" 404 -\n",
      "127.0.0.1 - - [07/Dec/2022 07:49:04] \"GET /style.css HTTP/1.1\" 404 -\n",
      "127.0.0.1 - - [07/Dec/2022 07:49:04] \"GET /2.png HTTP/1.1\" 404 -\n"
     ]
    },
    {
     "name": "stdout",
     "output_type": "stream",
     "text": [
      "[[0.0417785  0.09144197 0.12142328 0.08281785 0.10101366 0.21653958\n",
      "  0.06846619 0.13069327 0.04686584 0.09895982]]\n",
      "Loaded model from disk\n",
      "Model: \"sequential_1\"\n",
      "_________________________________________________________________\n",
      " Layer (type)                Output Shape              Param #   \n",
      "=================================================================\n",
      " flatten_1 (Flatten)         (None, 784)               0         \n",
      "                                                                 \n",
      " dense_2 (Dense)             (None, 128)               100480    \n",
      "                                                                 \n",
      " dropout_1 (Dropout)         (None, 128)               0         \n",
      "                                                                 \n",
      " dense_3 (Dense)             (None, 10)                1290      \n",
      "                                                                 \n",
      "=================================================================\n",
      "Total params: 101,770\n",
      "Trainable params: 101,770\n",
      "Non-trainable params: 0\n",
      "_________________________________________________________________\n",
      "1/1 [==============================] - 0s 143ms/step\n"
     ]
    },
    {
     "name": "stderr",
     "output_type": "stream",
     "text": [
      "127.0.0.1 - - [07/Dec/2022 07:49:13] \"POST /submit HTTP/1.1\" 200 -\n",
      "127.0.0.1 - - [07/Dec/2022 07:49:13] \"GET /script.js HTTP/1.1\" 404 -\n",
      "127.0.0.1 - - [07/Dec/2022 07:49:13] \"GET /style.css HTTP/1.1\" 404 -\n",
      "127.0.0.1 - - [07/Dec/2022 07:49:13] \"GET /download HTTP/1.1\" 404 -\n",
      "127.0.0.1 - - [07/Dec/2022 07:49:35] \"GET / HTTP/1.1\" 200 -\n",
      "127.0.0.1 - - [07/Dec/2022 07:49:35] \"GET /script.js HTTP/1.1\" 404 -\n",
      "127.0.0.1 - - [07/Dec/2022 07:49:35] \"GET /style.css HTTP/1.1\" 404 -\n"
     ]
    },
    {
     "name": "stdout",
     "output_type": "stream",
     "text": [
      "[[0.07815851 0.12959985 0.1342266  0.07348176 0.04654958 0.19848746\n",
      "  0.04137971 0.18316403 0.04231705 0.0726354 ]]\n",
      "Loaded model from disk\n",
      "Model: \"sequential_1\"\n",
      "_________________________________________________________________\n",
      " Layer (type)                Output Shape              Param #   \n",
      "=================================================================\n",
      " flatten_1 (Flatten)         (None, 784)               0         \n",
      "                                                                 \n",
      " dense_2 (Dense)             (None, 128)               100480    \n",
      "                                                                 \n",
      " dropout_1 (Dropout)         (None, 128)               0         \n",
      "                                                                 \n",
      " dense_3 (Dense)             (None, 10)                1290      \n",
      "                                                                 \n",
      "=================================================================\n",
      "Total params: 101,770\n",
      "Trainable params: 101,770\n",
      "Non-trainable params: 0\n",
      "_________________________________________________________________\n",
      "\r",
      "1/1 [==============================] - ETA: 0s\b\b\b\b\b\b\b\b\b\b\b\b\b\b\b\b\b\b\b\b\b\b\b\b\b\b\b\b\b\b\b\b\b\b\b\b\b\b\b\b\b\b\b\b\b\b\r",
      "1/1 [==============================] - 0s 55ms/step\n"
     ]
    },
    {
     "name": "stderr",
     "output_type": "stream",
     "text": [
      "127.0.0.1 - - [07/Dec/2022 07:49:40] \"POST /submit HTTP/1.1\" 200 -\n",
      "127.0.0.1 - - [07/Dec/2022 07:49:41] \"GET /script.js HTTP/1.1\" 404 -\n",
      "127.0.0.1 - - [07/Dec/2022 07:49:41] \"GET /style.css HTTP/1.1\" 404 -\n",
      "127.0.0.1 - - [07/Dec/2022 07:49:41] \"GET /7.png HTTP/1.1\" 404 -\n",
      " * Detected change in '/Users/john/Neural Networks/Identifying Digits Project/serverr.py', reloading\n",
      " * Detected change in '/Users/john/Neural Networks/Identifying Digits Project/.~serverr.py', reloading\n",
      " * Detected change in '/Users/john/Neural Networks/Identifying Digits Project/.~serverr.py', reloading\n",
      " * Detected change in '/Users/john/Neural Networks/Identifying Digits Project/.~serverr.py', reloading\n"
     ]
    },
    {
     "name": "stdout",
     "output_type": "stream",
     "text": [
      "[[0.0227504  0.07832355 0.05519273 0.07896518 0.04560271 0.0905974\n",
      "  0.00998712 0.48497444 0.02526612 0.10834029]]\n"
     ]
    },
    {
     "name": "stderr",
     "output_type": "stream",
     "text": [
      " * Restarting with watchdog (fsevents)\n"
     ]
    }
   ],
   "source": [
    "%run serverr.py\n",
    "\n",
    "\n",
    "\n",
    "\n",
    "\n",
    "\n",
    "\n",
    "\n",
    "\n",
    "\n",
    "\n",
    "\n",
    "\n",
    "\n",
    "\n",
    "\n"
   ]
  },
  {
   "cell_type": "code",
   "execution_count": 3,
   "id": "93a843d3",
   "metadata": {},
   "outputs": [],
   "source": [
    "#from flask import Flask, render_template\n",
    "\n",
    "\n",
    "#app = Flask(__name__)\n",
    "#\n",
    "#with open('index.html', 'r') as f:\n",
    "  #  html_string = f.read()\n",
    "    \n",
    "#@app.route(\"/\")\n",
    "#def hello_world():\n",
    "#    return render_template('index.html')\n",
    "    #return \"<p> Ya dumb</p>\n",
    "\n",
    "\n",
    "#if __name__ == '__main__':\n",
    "#     app.run(debug = True)\n",
    "\n",
    "\n",
    "\n",
    "#import import_ipynb\n",
    "#import Converting_Image_and_Evaluating_it #as nn\n",
    "#%run Converting_Image_and_Evaluating_it.ipynb import main_func\n",
    "#from flask import Flask, render_template\n",
    "\n",
    "#print(main_func('THREEEEEEE','.png',3) )  \n",
    "#app = Flask(__name__)\n",
    "\n",
    "\n",
    "#def handleFile(fn: str):\n",
    "    \n",
    "\n",
    "    \n",
    "\n",
    "#@app.route('/',methods = ['POST', 'GET'])\n",
    "#def req():\n",
    "    #render_template('index.html')\n",
    "    #if request.method == 'POST':\n",
    "     #   user_content = request.form['content']\n",
    "        \n",
    "     #   try: \n",
    "      #      model = main_func()\n",
    "      #  except:\n",
    "      #      print('yo its not working foo')\n",
    "    \n",
    "      #return redirect(url_for('success',name = user))\n",
    "\n",
    "   #else:\n",
    "     # user = request.args.get('nm')\n",
    "     # return redirect(url_for('success',name = user))\n",
    "\n",
    "#app = Flask(__name__)\n",
    "\n",
    "#@app.route(\"/\")\n",
    "#def hello_world():\n",
    " #   return \"<p>Hello, World!</p>\"\n",
    "#\n",
    "\n",
    "#if __name__ == '__main__':\n",
    "#     app.run(debug = True)\n"
   ]
  },
  {
   "cell_type": "code",
   "execution_count": null,
   "id": "94fe97c4",
   "metadata": {},
   "outputs": [],
   "source": []
  },
  {
   "cell_type": "code",
   "execution_count": null,
   "id": "17d72b75",
   "metadata": {},
   "outputs": [],
   "source": []
  }
 ],
 "metadata": {
  "kernelspec": {
   "display_name": "Python 3 (ipykernel)",
   "language": "python",
   "name": "python3"
  },
  "language_info": {
   "codemirror_mode": {
    "name": "ipython",
    "version": 3
   },
   "file_extension": ".py",
   "mimetype": "text/x-python",
   "name": "python",
   "nbconvert_exporter": "python",
   "pygments_lexer": "ipython3",
   "version": "3.9.13"
  },
  "vscode": {
   "interpreter": {
    "hash": "31f2aee4e71d21fbe5cf8b01ff0e069b9275f58929596ceb00d14d90e3e16cd6"
   }
  }
 },
 "nbformat": 4,
 "nbformat_minor": 5
}
